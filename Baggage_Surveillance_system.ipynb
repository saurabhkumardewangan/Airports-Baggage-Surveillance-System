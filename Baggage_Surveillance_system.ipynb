{
  "nbformat": 4,
  "nbformat_minor": 0,
  "metadata": {
    "colab": {
      "name": "Baggage Surveillance system.ipynb",
      "provenance": [],
      "collapsed_sections": []
    },
    "kernelspec": {
      "display_name": "Python 3",
      "name": "python3"
    },
    "language_info": {
      "name": "python"
    },
    "accelerator": "GPU"
  },
  "cells": [
    {
      "cell_type": "markdown",
      "metadata": {
        "id": "yeird0zBh-LF"
      },
      "source": [
        "# **Project: Baggage Surveillance system**"
      ]
    },
    {
      "cell_type": "markdown",
      "metadata": {
        "id": "7GkiErXBAzPA"
      },
      "source": [
        "**Importing libraries**"
      ]
    },
    {
      "cell_type": "code",
      "metadata": {
        "id": "U0J1VTZTccn-"
      },
      "source": [
        "import pandas as pd\n",
        "import numpy as np\n",
        "import matplotlib.pyplot as plt\n",
        "import seaborn as sns\n",
        "from sklearn.model_selection import GridSearchCV\n",
        "from sklearn.ensemble import RandomForestClassifier\n",
        "from sklearn.ensemble import RandomForestRegressor\n",
        "from sklearn.metrics import accuracy_score\n",
        "from sklearn.metrics import mean_squared_error, r2_score"
      ],
      "execution_count": null,
      "outputs": []
    },
    {
      "cell_type": "markdown",
      "metadata": {
        "id": "BZPm80Ty8SeA"
      },
      "source": [
        "**Mounting the drive**"
      ]
    },
    {
      "cell_type": "code",
      "metadata": {
        "colab": {
          "base_uri": "https://localhost:8080/"
        },
        "id": "IbutQbKZdX10",
        "outputId": "9389c558-5aa0-47dd-c098-8daca88a0a9b"
      },
      "source": [
        "from google.colab import drive\n",
        "drive.mount('/content/drive/')"
      ],
      "execution_count": null,
      "outputs": [
        {
          "output_type": "stream",
          "text": [
            "Mounted at /content/drive/\n"
          ],
          "name": "stdout"
        }
      ]
    },
    {
      "cell_type": "markdown",
      "metadata": {
        "id": "8e1LslcV8ViO"
      },
      "source": [
        "**Uploading the file**"
      ]
    },
    {
      "cell_type": "code",
      "metadata": {
        "colab": {
          "base_uri": "https://localhost:8080/",
          "height": 258
        },
        "id": "yz1nApEE_qAo",
        "outputId": "5eb82a71-32e4-4cb1-88c1-1983c72fde0b"
      },
      "source": [
        "bss = pd.read_csv('/content/drive/MyDrive/DS_47/BagTrack Report_MVXR.csv',encoding=\"unicode_escape\")\n",
        "bss.head()"
      ],
      "execution_count": null,
      "outputs": [
        {
          "output_type": "stream",
          "text": [
            "/usr/local/lib/python3.7/dist-packages/IPython/core/interactiveshell.py:2718: DtypeWarning: Columns (0,1,6) have mixed types.Specify dtype option on import or set low_memory=False.\n",
            "  interactivity=interactivity, compiler=compiler, result=result)\n"
          ],
          "name": "stderr"
        },
        {
          "output_type": "execute_result",
          "data": {
            "text/html": [
              "<div>\n",
              "<style scoped>\n",
              "    .dataframe tbody tr th:only-of-type {\n",
              "        vertical-align: middle;\n",
              "    }\n",
              "\n",
              "    .dataframe tbody tr th {\n",
              "        vertical-align: top;\n",
              "    }\n",
              "\n",
              "    .dataframe thead th {\n",
              "        text-align: right;\n",
              "    }\n",
              "</style>\n",
              "<table border=\"1\" class=\"dataframe\">\n",
              "  <thead>\n",
              "    <tr style=\"text-align: right;\">\n",
              "      <th></th>\n",
              "      <th>BAG TRACKING REPORT</th>\n",
              "      <th>Unnamed: 1</th>\n",
              "      <th>Unnamed: 2</th>\n",
              "      <th>Unnamed: 3</th>\n",
              "      <th>Unnamed: 4</th>\n",
              "      <th>Unnamed: 5</th>\n",
              "      <th>Unnamed: 6</th>\n",
              "      <th>Unnamed: 7</th>\n",
              "      <th>Unnamed: 8</th>\n",
              "      <th>Unnamed: 9</th>\n",
              "      <th>Unnamed: 10</th>\n",
              "    </tr>\n",
              "  </thead>\n",
              "  <tbody>\n",
              "    <tr>\n",
              "      <th>0</th>\n",
              "      <td>BagID</td>\n",
              "      <td>MVXR</td>\n",
              "      <td>BHSID</td>\n",
              "      <td>L1 Decision</td>\n",
              "      <td>Level1Decision</td>\n",
              "      <td>L2Decision</td>\n",
              "      <td>L2LoginID</td>\n",
              "      <td>L2DecisionTime</td>\n",
              "      <td>L3Decision</td>\n",
              "      <td>L3LoginID</td>\n",
              "      <td>L3DecisionTime</td>\n",
              "    </tr>\n",
              "    <tr>\n",
              "      <th>1</th>\n",
              "      <td>5178</td>\n",
              "      <td>2</td>\n",
              "      <td>0312365478_0280SD</td>\n",
              "      <td>Reject</td>\n",
              "      <td>1/1/2020 0:16:19</td>\n",
              "      <td>Time out</td>\n",
              "      <td>32661</td>\n",
              "      <td>1/1/2020 0:16:46</td>\n",
              "      <td>Reject</td>\n",
              "      <td>32887</td>\n",
              "      <td>1/1/2020 0:16:54</td>\n",
              "    </tr>\n",
              "    <tr>\n",
              "      <th>2</th>\n",
              "      <td>5180</td>\n",
              "      <td>2</td>\n",
              "      <td>0312365545_0282SD</td>\n",
              "      <td>Reject</td>\n",
              "      <td>1/1/2020 0:19:28</td>\n",
              "      <td>Accept</td>\n",
              "      <td>32661</td>\n",
              "      <td>1/1/2020 0:19:41</td>\n",
              "      <td>-</td>\n",
              "      <td>-</td>\n",
              "      <td>-</td>\n",
              "    </tr>\n",
              "    <tr>\n",
              "      <th>3</th>\n",
              "      <td>5187</td>\n",
              "      <td>2</td>\n",
              "      <td>0312365871_0293SD</td>\n",
              "      <td>Reject</td>\n",
              "      <td>1/1/2020 0:24:39</td>\n",
              "      <td>Accept</td>\n",
              "      <td>32153</td>\n",
              "      <td>1/1/2020 0:24:44</td>\n",
              "      <td>-</td>\n",
              "      <td>-</td>\n",
              "      <td>-</td>\n",
              "    </tr>\n",
              "    <tr>\n",
              "      <th>4</th>\n",
              "      <td>5189</td>\n",
              "      <td>2</td>\n",
              "      <td>0312365971_0296SD</td>\n",
              "      <td>Reject</td>\n",
              "      <td>1/1/2020 0:28:31</td>\n",
              "      <td>Accept</td>\n",
              "      <td>32153</td>\n",
              "      <td>1/1/2020 0:28:42</td>\n",
              "      <td>-</td>\n",
              "      <td>-</td>\n",
              "      <td>-</td>\n",
              "    </tr>\n",
              "  </tbody>\n",
              "</table>\n",
              "</div>"
            ],
            "text/plain": [
              "  BAG TRACKING REPORT Unnamed: 1  ...  Unnamed: 9       Unnamed: 10\n",
              "0               BagID       MVXR  ...  L3LoginID    L3DecisionTime \n",
              "1                5178          2  ...       32887  1/1/2020 0:16:54\n",
              "2                5180          2  ...           -                 -\n",
              "3                5187          2  ...           -                 -\n",
              "4                5189          2  ...           -                 -\n",
              "\n",
              "[5 rows x 11 columns]"
            ]
          },
          "metadata": {
            "tags": []
          },
          "execution_count": 275
        }
      ]
    },
    {
      "cell_type": "markdown",
      "metadata": {
        "id": "AgqXaEBjxcsj"
      },
      "source": [
        "**Changing column names & Reindexing**"
      ]
    },
    {
      "cell_type": "code",
      "metadata": {
        "id": "oU6bf3Pexb4k"
      },
      "source": [
        "################# Changing header\n",
        "new_header = bss.iloc[0]            # grab the first row for the header\n",
        "bss = bss[1:]                       # take the data less the header row\n",
        "bss.columns = new_header            # set the header row as the df header\n",
        "\n",
        "\n",
        "################# Reindexing\n",
        "bss.reset_index(inplace=True, drop=True)"
      ],
      "execution_count": null,
      "outputs": []
    },
    {
      "cell_type": "code",
      "metadata": {
        "colab": {
          "base_uri": "https://localhost:8080/",
          "height": 204
        },
        "id": "CldAt0JW1o_g",
        "outputId": "bbadaa87-4ede-4cdd-9b54-a66b936a9ab7"
      },
      "source": [
        "bss.head(5)"
      ],
      "execution_count": null,
      "outputs": [
        {
          "output_type": "execute_result",
          "data": {
            "text/html": [
              "<div>\n",
              "<style scoped>\n",
              "    .dataframe tbody tr th:only-of-type {\n",
              "        vertical-align: middle;\n",
              "    }\n",
              "\n",
              "    .dataframe tbody tr th {\n",
              "        vertical-align: top;\n",
              "    }\n",
              "\n",
              "    .dataframe thead th {\n",
              "        text-align: right;\n",
              "    }\n",
              "</style>\n",
              "<table border=\"1\" class=\"dataframe\">\n",
              "  <thead>\n",
              "    <tr style=\"text-align: right;\">\n",
              "      <th></th>\n",
              "      <th>BagID</th>\n",
              "      <th>MVXR</th>\n",
              "      <th>BHSID</th>\n",
              "      <th>L1 Decision</th>\n",
              "      <th>Level1Decision</th>\n",
              "      <th>L2Decision</th>\n",
              "      <th>L2LoginID</th>\n",
              "      <th>L2DecisionTime</th>\n",
              "      <th>L3Decision</th>\n",
              "      <th>L3LoginID</th>\n",
              "      <th>L3DecisionTime</th>\n",
              "    </tr>\n",
              "  </thead>\n",
              "  <tbody>\n",
              "    <tr>\n",
              "      <th>0</th>\n",
              "      <td>5178</td>\n",
              "      <td>2</td>\n",
              "      <td>0312365478_0280SD</td>\n",
              "      <td>Reject</td>\n",
              "      <td>1/1/2020 0:16:19</td>\n",
              "      <td>Time out</td>\n",
              "      <td>32661</td>\n",
              "      <td>1/1/2020 0:16:46</td>\n",
              "      <td>Reject</td>\n",
              "      <td>32887</td>\n",
              "      <td>1/1/2020 0:16:54</td>\n",
              "    </tr>\n",
              "    <tr>\n",
              "      <th>1</th>\n",
              "      <td>5180</td>\n",
              "      <td>2</td>\n",
              "      <td>0312365545_0282SD</td>\n",
              "      <td>Reject</td>\n",
              "      <td>1/1/2020 0:19:28</td>\n",
              "      <td>Accept</td>\n",
              "      <td>32661</td>\n",
              "      <td>1/1/2020 0:19:41</td>\n",
              "      <td>-</td>\n",
              "      <td>-</td>\n",
              "      <td>-</td>\n",
              "    </tr>\n",
              "    <tr>\n",
              "      <th>2</th>\n",
              "      <td>5187</td>\n",
              "      <td>2</td>\n",
              "      <td>0312365871_0293SD</td>\n",
              "      <td>Reject</td>\n",
              "      <td>1/1/2020 0:24:39</td>\n",
              "      <td>Accept</td>\n",
              "      <td>32153</td>\n",
              "      <td>1/1/2020 0:24:44</td>\n",
              "      <td>-</td>\n",
              "      <td>-</td>\n",
              "      <td>-</td>\n",
              "    </tr>\n",
              "    <tr>\n",
              "      <th>3</th>\n",
              "      <td>5189</td>\n",
              "      <td>2</td>\n",
              "      <td>0312365971_0296SD</td>\n",
              "      <td>Reject</td>\n",
              "      <td>1/1/2020 0:28:31</td>\n",
              "      <td>Accept</td>\n",
              "      <td>32153</td>\n",
              "      <td>1/1/2020 0:28:42</td>\n",
              "      <td>-</td>\n",
              "      <td>-</td>\n",
              "      <td>-</td>\n",
              "    </tr>\n",
              "    <tr>\n",
              "      <th>4</th>\n",
              "      <td>5196</td>\n",
              "      <td>2</td>\n",
              "      <td>0312366152_0304SD</td>\n",
              "      <td>Reject</td>\n",
              "      <td>1/1/2020 0:33:42</td>\n",
              "      <td>Accept</td>\n",
              "      <td>32153</td>\n",
              "      <td>1/1/2020 0:33:47</td>\n",
              "      <td>-</td>\n",
              "      <td>-</td>\n",
              "      <td>-</td>\n",
              "    </tr>\n",
              "  </tbody>\n",
              "</table>\n",
              "</div>"
            ],
            "text/plain": [
              "0 BagID MVXR              BHSID  ... L3Decision  L3LoginID    L3DecisionTime \n",
              "0  5178    2  0312365478_0280SD  ...      Reject      32887  1/1/2020 0:16:54\n",
              "1  5180    2  0312365545_0282SD  ...           -          -                 -\n",
              "2  5187    2  0312365871_0293SD  ...           -          -                 -\n",
              "3  5189    2  0312365971_0296SD  ...           -          -                 -\n",
              "4  5196    2  0312366152_0304SD  ...           -          -                 -\n",
              "\n",
              "[5 rows x 11 columns]"
            ]
          },
          "metadata": {
            "tags": []
          },
          "execution_count": 199
        }
      ]
    },
    {
      "cell_type": "markdown",
      "metadata": {
        "id": "ofHbHxLEitsN"
      },
      "source": [
        "**Renaming columns**"
      ]
    },
    {
      "cell_type": "code",
      "metadata": {
        "colab": {
          "base_uri": "https://localhost:8080/"
        },
        "id": "f6LjhWVviv46",
        "outputId": "95e8b3cf-7c38-46b9-e62e-4650d9670cbd"
      },
      "source": [
        "bss = bss.rename(columns = {'L1 Decision ':'L1_Decision','Level1Decision ':'L1_Decision_Time','L2LoginID ':'L2_LoginID',\n",
        "                            'L2Decision ':'L2_Decision','L2DecisionTime ':'L2_Decision_Time','L3Decision ':'L3_Decision','L3LoginID ':'L3_LoginID',\n",
        "                            'L3DecisionTime ':'L3_Decision_Time'})\n",
        "\n",
        "bss.columns"
      ],
      "execution_count": null,
      "outputs": [
        {
          "output_type": "execute_result",
          "data": {
            "text/plain": [
              "Index(['BagID', 'MVXR', 'BHSID', 'L1_Decision', 'L1_Decision_Time',\n",
              "       'L2_Decision', 'L2_LoginID', 'L2_Decision_Time', 'L3_Decision',\n",
              "       'L3_LoginID', 'L3_Decision_Time'],\n",
              "      dtype='object', name=0)"
            ]
          },
          "metadata": {
            "tags": []
          },
          "execution_count": 277
        }
      ]
    },
    {
      "cell_type": "markdown",
      "metadata": {
        "id": "OQ_VFxHeXpt5"
      },
      "source": [
        "**Seperating the Operators at L2 & L3 level**"
      ]
    },
    {
      "cell_type": "code",
      "metadata": {
        "id": "0JL6r-Ygi7nv"
      },
      "source": [
        "################## Seprating the L2 & L3 dataset\n",
        "\n",
        "l2 = bss.iloc[:,0:8]\n",
        "\n",
        "l31 = bss.iloc[:,0:3]\n",
        "l32 = bss.iloc[:,5:12]\n",
        "\n",
        "l3 = pd.concat([l31,l32],axis=1)"
      ],
      "execution_count": null,
      "outputs": []
    },
    {
      "cell_type": "markdown",
      "metadata": {
        "id": "PKjFHNJRYCBN"
      },
      "source": [
        "**L2 Operators datset**"
      ]
    },
    {
      "cell_type": "code",
      "metadata": {
        "colab": {
          "base_uri": "https://localhost:8080/",
          "height": 204
        },
        "id": "s0FBwOg4YFgQ",
        "outputId": "e006ccfb-c1b5-43ff-9a6a-b592e85c81ec"
      },
      "source": [
        "l2.head()"
      ],
      "execution_count": null,
      "outputs": [
        {
          "output_type": "execute_result",
          "data": {
            "text/html": [
              "<div>\n",
              "<style scoped>\n",
              "    .dataframe tbody tr th:only-of-type {\n",
              "        vertical-align: middle;\n",
              "    }\n",
              "\n",
              "    .dataframe tbody tr th {\n",
              "        vertical-align: top;\n",
              "    }\n",
              "\n",
              "    .dataframe thead th {\n",
              "        text-align: right;\n",
              "    }\n",
              "</style>\n",
              "<table border=\"1\" class=\"dataframe\">\n",
              "  <thead>\n",
              "    <tr style=\"text-align: right;\">\n",
              "      <th></th>\n",
              "      <th>BagID</th>\n",
              "      <th>MVXR</th>\n",
              "      <th>BHSID</th>\n",
              "      <th>L1_Decision</th>\n",
              "      <th>L1_Decision_Time</th>\n",
              "      <th>L2_Decision</th>\n",
              "      <th>L2_LoginID</th>\n",
              "      <th>L2_Decision_Time</th>\n",
              "    </tr>\n",
              "  </thead>\n",
              "  <tbody>\n",
              "    <tr>\n",
              "      <th>0</th>\n",
              "      <td>5178</td>\n",
              "      <td>2</td>\n",
              "      <td>0312365478_0280SD</td>\n",
              "      <td>Reject</td>\n",
              "      <td>1/1/2020 0:16:19</td>\n",
              "      <td>Time out</td>\n",
              "      <td>32661</td>\n",
              "      <td>1/1/2020 0:16:46</td>\n",
              "    </tr>\n",
              "    <tr>\n",
              "      <th>1</th>\n",
              "      <td>5180</td>\n",
              "      <td>2</td>\n",
              "      <td>0312365545_0282SD</td>\n",
              "      <td>Reject</td>\n",
              "      <td>1/1/2020 0:19:28</td>\n",
              "      <td>Accept</td>\n",
              "      <td>32661</td>\n",
              "      <td>1/1/2020 0:19:41</td>\n",
              "    </tr>\n",
              "    <tr>\n",
              "      <th>2</th>\n",
              "      <td>5187</td>\n",
              "      <td>2</td>\n",
              "      <td>0312365871_0293SD</td>\n",
              "      <td>Reject</td>\n",
              "      <td>1/1/2020 0:24:39</td>\n",
              "      <td>Accept</td>\n",
              "      <td>32153</td>\n",
              "      <td>1/1/2020 0:24:44</td>\n",
              "    </tr>\n",
              "    <tr>\n",
              "      <th>3</th>\n",
              "      <td>5189</td>\n",
              "      <td>2</td>\n",
              "      <td>0312365971_0296SD</td>\n",
              "      <td>Reject</td>\n",
              "      <td>1/1/2020 0:28:31</td>\n",
              "      <td>Accept</td>\n",
              "      <td>32153</td>\n",
              "      <td>1/1/2020 0:28:42</td>\n",
              "    </tr>\n",
              "    <tr>\n",
              "      <th>4</th>\n",
              "      <td>5196</td>\n",
              "      <td>2</td>\n",
              "      <td>0312366152_0304SD</td>\n",
              "      <td>Reject</td>\n",
              "      <td>1/1/2020 0:33:42</td>\n",
              "      <td>Accept</td>\n",
              "      <td>32153</td>\n",
              "      <td>1/1/2020 0:33:47</td>\n",
              "    </tr>\n",
              "  </tbody>\n",
              "</table>\n",
              "</div>"
            ],
            "text/plain": [
              "0 BagID MVXR              BHSID  ... L2_Decision L2_LoginID  L2_Decision_Time\n",
              "0  5178    2  0312365478_0280SD  ...    Time out      32661  1/1/2020 0:16:46\n",
              "1  5180    2  0312365545_0282SD  ...      Accept      32661  1/1/2020 0:19:41\n",
              "2  5187    2  0312365871_0293SD  ...      Accept      32153  1/1/2020 0:24:44\n",
              "3  5189    2  0312365971_0296SD  ...      Accept      32153  1/1/2020 0:28:42\n",
              "4  5196    2  0312366152_0304SD  ...      Accept      32153  1/1/2020 0:33:47\n",
              "\n",
              "[5 rows x 8 columns]"
            ]
          },
          "metadata": {
            "tags": []
          },
          "execution_count": 8
        }
      ]
    },
    {
      "cell_type": "markdown",
      "metadata": {
        "id": "Ri3zYr5NYM9T"
      },
      "source": [
        "**L3 operators dataset**"
      ]
    },
    {
      "cell_type": "code",
      "metadata": {
        "colab": {
          "base_uri": "https://localhost:8080/",
          "height": 204
        },
        "id": "FkvdMot7YMpL",
        "outputId": "7e0603b4-e71f-4f94-b406-ce55d2fb7185"
      },
      "source": [
        "l3.head()"
      ],
      "execution_count": null,
      "outputs": [
        {
          "output_type": "execute_result",
          "data": {
            "text/html": [
              "<div>\n",
              "<style scoped>\n",
              "    .dataframe tbody tr th:only-of-type {\n",
              "        vertical-align: middle;\n",
              "    }\n",
              "\n",
              "    .dataframe tbody tr th {\n",
              "        vertical-align: top;\n",
              "    }\n",
              "\n",
              "    .dataframe thead th {\n",
              "        text-align: right;\n",
              "    }\n",
              "</style>\n",
              "<table border=\"1\" class=\"dataframe\">\n",
              "  <thead>\n",
              "    <tr style=\"text-align: right;\">\n",
              "      <th></th>\n",
              "      <th>BagID</th>\n",
              "      <th>MVXR</th>\n",
              "      <th>BHSID</th>\n",
              "      <th>L2_Decision</th>\n",
              "      <th>L2_LoginID</th>\n",
              "      <th>L2_Decision_Time</th>\n",
              "      <th>L3_Decision</th>\n",
              "      <th>L3_LoginID</th>\n",
              "      <th>L3_Decision_Time</th>\n",
              "    </tr>\n",
              "  </thead>\n",
              "  <tbody>\n",
              "    <tr>\n",
              "      <th>0</th>\n",
              "      <td>5178</td>\n",
              "      <td>2</td>\n",
              "      <td>0312365478_0280SD</td>\n",
              "      <td>Time out</td>\n",
              "      <td>32661</td>\n",
              "      <td>1/1/2020 0:16:46</td>\n",
              "      <td>Reject</td>\n",
              "      <td>32887</td>\n",
              "      <td>1/1/2020 0:16:54</td>\n",
              "    </tr>\n",
              "    <tr>\n",
              "      <th>1</th>\n",
              "      <td>5180</td>\n",
              "      <td>2</td>\n",
              "      <td>0312365545_0282SD</td>\n",
              "      <td>Accept</td>\n",
              "      <td>32661</td>\n",
              "      <td>1/1/2020 0:19:41</td>\n",
              "      <td>-</td>\n",
              "      <td>-</td>\n",
              "      <td>-</td>\n",
              "    </tr>\n",
              "    <tr>\n",
              "      <th>2</th>\n",
              "      <td>5187</td>\n",
              "      <td>2</td>\n",
              "      <td>0312365871_0293SD</td>\n",
              "      <td>Accept</td>\n",
              "      <td>32153</td>\n",
              "      <td>1/1/2020 0:24:44</td>\n",
              "      <td>-</td>\n",
              "      <td>-</td>\n",
              "      <td>-</td>\n",
              "    </tr>\n",
              "    <tr>\n",
              "      <th>3</th>\n",
              "      <td>5189</td>\n",
              "      <td>2</td>\n",
              "      <td>0312365971_0296SD</td>\n",
              "      <td>Accept</td>\n",
              "      <td>32153</td>\n",
              "      <td>1/1/2020 0:28:42</td>\n",
              "      <td>-</td>\n",
              "      <td>-</td>\n",
              "      <td>-</td>\n",
              "    </tr>\n",
              "    <tr>\n",
              "      <th>4</th>\n",
              "      <td>5196</td>\n",
              "      <td>2</td>\n",
              "      <td>0312366152_0304SD</td>\n",
              "      <td>Accept</td>\n",
              "      <td>32153</td>\n",
              "      <td>1/1/2020 0:33:47</td>\n",
              "      <td>-</td>\n",
              "      <td>-</td>\n",
              "      <td>-</td>\n",
              "    </tr>\n",
              "  </tbody>\n",
              "</table>\n",
              "</div>"
            ],
            "text/plain": [
              "0 BagID MVXR              BHSID  ... L3_Decision L3_LoginID  L3_Decision_Time\n",
              "0  5178    2  0312365478_0280SD  ...      Reject      32887  1/1/2020 0:16:54\n",
              "1  5180    2  0312365545_0282SD  ...           -          -                 -\n",
              "2  5187    2  0312365871_0293SD  ...           -          -                 -\n",
              "3  5189    2  0312365971_0296SD  ...           -          -                 -\n",
              "4  5196    2  0312366152_0304SD  ...           -          -                 -\n",
              "\n",
              "[5 rows x 9 columns]"
            ]
          },
          "metadata": {
            "tags": []
          },
          "execution_count": 180
        }
      ]
    },
    {
      "cell_type": "markdown",
      "metadata": {
        "id": "QUafFueLYtZ2"
      },
      "source": [
        "# **L2 operators datset EDA**"
      ]
    },
    {
      "cell_type": "code",
      "metadata": {
        "colab": {
          "base_uri": "https://localhost:8080/"
        },
        "id": "s9DhUkQN4IEc",
        "outputId": "3a22c7fc-9e86-4061-c439-aea4bb7cb2a3"
      },
      "source": [
        "l2.shape"
      ],
      "execution_count": null,
      "outputs": [
        {
          "output_type": "execute_result",
          "data": {
            "text/plain": [
              "(1048574, 8)"
            ]
          },
          "metadata": {
            "tags": []
          },
          "execution_count": 10
        }
      ]
    },
    {
      "cell_type": "markdown",
      "metadata": {
        "id": "CC_aywGLZEY4"
      },
      "source": [
        "**Null values**"
      ]
    },
    {
      "cell_type": "code",
      "metadata": {
        "colab": {
          "base_uri": "https://localhost:8080/"
        },
        "id": "Te6SXaSA9IeT",
        "outputId": "37159957-3045-4d0c-8eee-6cd42e0aab6e"
      },
      "source": [
        "################## Null values\n",
        "l2.isnull().sum()"
      ],
      "execution_count": null,
      "outputs": [
        {
          "output_type": "execute_result",
          "data": {
            "text/plain": [
              "0\n",
              "BagID                   0\n",
              "MVXR                    0\n",
              "BHSID                   6\n",
              "L1_Decision             0\n",
              "L1_Decision_Time        0\n",
              "L2_Decision             0\n",
              "L2_LoginID          33283\n",
              "L2_Decision_Time        0\n",
              "dtype: int64"
            ]
          },
          "metadata": {
            "tags": []
          },
          "execution_count": 11
        }
      ]
    },
    {
      "cell_type": "markdown",
      "metadata": {
        "id": "trM7iaQOZOB6"
      },
      "source": [
        "**Dropping Null values**"
      ]
    },
    {
      "cell_type": "code",
      "metadata": {
        "colab": {
          "base_uri": "https://localhost:8080/"
        },
        "id": "fXEIFZ8Q9Pbz",
        "outputId": "ee040e53-1622-4388-b944-01a1d5281562"
      },
      "source": [
        "################## Dropping Null values\n",
        "l2 = l2.dropna()\n",
        "l2.isnull().sum()"
      ],
      "execution_count": null,
      "outputs": [
        {
          "output_type": "execute_result",
          "data": {
            "text/plain": [
              "0\n",
              "BagID               0\n",
              "MVXR                0\n",
              "BHSID               0\n",
              "L1_Decision         0\n",
              "L1_Decision_Time    0\n",
              "L2_Decision         0\n",
              "L2_LoginID          0\n",
              "L2_Decision_Time    0\n",
              "dtype: int64"
            ]
          },
          "metadata": {
            "tags": []
          },
          "execution_count": 11
        }
      ]
    },
    {
      "cell_type": "markdown",
      "metadata": {
        "id": "7EFfQAeqY2xx"
      },
      "source": [
        "**Datatypes**"
      ]
    },
    {
      "cell_type": "code",
      "metadata": {
        "colab": {
          "base_uri": "https://localhost:8080/"
        },
        "id": "sfjPCuYT9BAO",
        "outputId": "696fe965-508e-4f18-8c11-fc80246a59fc"
      },
      "source": [
        "l2.dtypes"
      ],
      "execution_count": null,
      "outputs": [
        {
          "output_type": "execute_result",
          "data": {
            "text/plain": [
              "0\n",
              "BagID               object\n",
              "MVXR                object\n",
              "BHSID               object\n",
              "L1_Decision         object\n",
              "L1_Decision_Time    object\n",
              "L2_Decision         object\n",
              "L2_LoginID          object\n",
              "L2_Decision_Time    object\n",
              "dtype: object"
            ]
          },
          "metadata": {
            "tags": []
          },
          "execution_count": 13
        }
      ]
    },
    {
      "cell_type": "markdown",
      "metadata": {
        "id": "Pvv_LQWfZ_ei"
      },
      "source": [
        "**Changing L2 datatype**"
      ]
    },
    {
      "cell_type": "code",
      "metadata": {
        "colab": {
          "base_uri": "https://localhost:8080/"
        },
        "id": "ifyp3REi9YVA",
        "outputId": "f6512d04-4918-49a1-9900-863221645822"
      },
      "source": [
        "################## Typecasting\n",
        "l2.BagID = l2.BagID.astype('int64')\n",
        "l2.MVXR = l2.MVXR.astype('int64')\n",
        "l2.L2_LoginID = l2.L2_LoginID.astype('int64')\n",
        "l2['L1_Decision_Time']= pd.to_datetime(l2['L1_Decision_Time'])\n",
        "l2['L2_Decision_Time']= pd.to_datetime(l2['L2_Decision_Time'])\n",
        "\n",
        "l2.dtypes"
      ],
      "execution_count": null,
      "outputs": [
        {
          "output_type": "execute_result",
          "data": {
            "text/plain": [
              "0\n",
              "BagID                        int64\n",
              "MVXR                         int64\n",
              "BHSID                       object\n",
              "L1_Decision                 object\n",
              "L1_Decision_Time    datetime64[ns]\n",
              "L2_Decision                 object\n",
              "L2_LoginID                   int64\n",
              "L2_Decision_Time    datetime64[ns]\n",
              "dtype: object"
            ]
          },
          "metadata": {
            "tags": []
          },
          "execution_count": 12
        }
      ]
    },
    {
      "cell_type": "markdown",
      "metadata": {
        "id": "YZ9Mtdy23cMu"
      },
      "source": [
        "**Unique values**"
      ]
    },
    {
      "cell_type": "code",
      "metadata": {
        "colab": {
          "base_uri": "https://localhost:8080/"
        },
        "id": "qx7vxDCA3fCT",
        "outputId": "ac37f6f3-ae46-4d6e-ed2b-3ede9be47104"
      },
      "source": [
        "unique_l2 = l2.apply(lambda col: col.unique())\n",
        "unique_l2"
      ],
      "execution_count": null,
      "outputs": [
        {
          "output_type": "execute_result",
          "data": {
            "text/plain": [
              "0\n",
              "BagID               [5178, 5180, 5187, 5189, 5196, 5198, 5201, 520...\n",
              "MVXR                                                     [2, 3, 1, 4]\n",
              "BHSID               [0312365478_0280SD, 0312365545_0282SD, 0312365...\n",
              "L1_Decision                                               [Reject, -]\n",
              "L1_Decision_Time    [2020-01-01T00:16:19.000000000, 2020-01-01T00:...\n",
              "L2_Decision                [Time out, Accept, Reject, Default Reject]\n",
              "L2_LoginID          [32661, 32153, 32648, 30921, 32878, 31230, 328...\n",
              "L2_Decision_Time    [2020-01-01T00:16:46.000000000, 2020-01-01T00:...\n",
              "dtype: object"
            ]
          },
          "metadata": {
            "tags": []
          },
          "execution_count": 15
        }
      ]
    },
    {
      "cell_type": "markdown",
      "metadata": {
        "id": "Fh4hITm24qur"
      },
      "source": [
        "**Dropping \"-\" from dataset**"
      ]
    },
    {
      "cell_type": "code",
      "metadata": {
        "colab": {
          "base_uri": "https://localhost:8080/"
        },
        "id": "9K5JXBeX9Un4",
        "outputId": "24f32260-aa8a-4d20-a1f2-2169f5bbaf77"
      },
      "source": [
        "################## Removing \"-\" from the columns & checking unique values again\n",
        "l2 = l2[l2.L1_Decision != '-']\n",
        "l2.shape"
      ],
      "execution_count": null,
      "outputs": [
        {
          "output_type": "execute_result",
          "data": {
            "text/plain": [
              "(1012879, 8)"
            ]
          },
          "metadata": {
            "tags": []
          },
          "execution_count": 13
        }
      ]
    },
    {
      "cell_type": "markdown",
      "metadata": {
        "id": "91aFi4HE4xxi"
      },
      "source": [
        "**Calculating operator 2 performance in seconds**"
      ]
    },
    {
      "cell_type": "code",
      "metadata": {
        "id": "d7V4y5LV9b2h"
      },
      "source": [
        "################## L2 time\n",
        "l2['Operator_L2_time'] = (l2['L2_Decision_Time'] - l2['L1_Decision_Time']).dt.seconds"
      ],
      "execution_count": null,
      "outputs": []
    },
    {
      "cell_type": "markdown",
      "metadata": {
        "id": "NnE7W-ce44Xr"
      },
      "source": [
        "**Creating Aircraft id feature**"
      ]
    },
    {
      "cell_type": "code",
      "metadata": {
        "colab": {
          "base_uri": "https://localhost:8080/"
        },
        "id": "RHU1eBmh9gKJ",
        "outputId": "0acbb195-412f-4431-9dfc-b1635565c5f9"
      },
      "source": [
        "################## Fetching first 4 letters\n",
        "l2['Aircraft_id'] = l2['BHSID'].astype(str).str[0:4]\n",
        "################## Unique aircraft count\n",
        "aircraft_count_l2 = l2.Aircraft_id.unique()\n",
        "aircraft_count_l2.shape "
      ],
      "execution_count": null,
      "outputs": [
        {
          "output_type": "execute_result",
          "data": {
            "text/plain": [
              "(154,)"
            ]
          },
          "metadata": {
            "tags": []
          },
          "execution_count": 15
        }
      ]
    },
    {
      "cell_type": "markdown",
      "metadata": {
        "id": "mjOV8BbS5cLA"
      },
      "source": [
        "**Unique aircraft codes**"
      ]
    },
    {
      "cell_type": "code",
      "metadata": {
        "colab": {
          "base_uri": "https://localhost:8080/"
        },
        "id": "pkGr5aMo5Q-P",
        "outputId": "72495c13-9fc8-4899-b49a-d482c8f2760f"
      },
      "source": [
        "aircraft_count_l2"
      ],
      "execution_count": null,
      "outputs": [
        {
          "output_type": "execute_result",
          "data": {
            "text/plain": [
              "array(['0312', '0000', '0775', 'MVXR', '0001', '0098', '0879', '0057',\n",
              "       '0807', '0777', '0228', '0157', '0235', '0668', '3607', '0176',\n",
              "       '0232', '0999', '0100', '0217', '7607', '3098', '4016', '0016',\n",
              "       '0514', '0712', '0486', '0319', '4589', '4910', '8006', '0322',\n",
              "       '0229', '3589', '0160', '0672', '6001', '0603', '4555', '0065',\n",
              "       '0117', '6016', '0771', '0125', '0260', '7910', '5006', '0222',\n",
              "       '0072', '0314', '0043', '0080', '3807', '0388', '0030', '2879',\n",
              "       '2514', '0313', '0357', '0755', '0086', '0382', '0220', '2000',\n",
              "       '0279', '0790', '4816', '0316', '0618', '0075', '0141', '5629',\n",
              "       '5016', '0285', '0523', '5607', '6607', '0055', '7027', '9511',\n",
              "       '3910', '3016', '0909', '7705', '0787', '0041', '3999', '9910',\n",
              "       '0635', '2072', '5279', '0311', '4001', '0786', '4072', '0027',\n",
              "       '6006', '9072', '8179', '2479', '3072', '3027', '8607', '9001',\n",
              "       '9188', '0239', '7006', '0387', '0081', '4006', '0230', '0082',\n",
              "       '0028', '2098', '0607', '0317', '8512', '6555', '5910', '0910',\n",
              "       '3784', '5589', '0352', '7612', '0327', '5816', '0337', '0284',\n",
              "       '6139', '3001', '3006', '0512', '0250', '0105', '9012', '0652',\n",
              "       '1234', '9589', '0257', '2775', '7072', '0724', '2027', '0459',\n",
              "       '3128', '0566', '8128', '3781', '0386', '8412', '0612', '0074',\n",
              "       '9071', '0446'], dtype=object)"
            ]
          },
          "metadata": {
            "tags": []
          },
          "execution_count": 19
        }
      ]
    },
    {
      "cell_type": "code",
      "metadata": {
        "colab": {
          "base_uri": "https://localhost:8080/"
        },
        "id": "Gp41ThJq5wMT",
        "outputId": "b5fccfbf-0aa3-4514-f0d0-f6f72ac3a424"
      },
      "source": [
        "################## Removing \"-\" from the columns & checking unique values again\n",
        "l2 = l2[l2.Aircraft_id != 'MVXR']\n",
        "l2 = l2[l2.Aircraft_id != '0000']\n",
        "l2.shape"
      ],
      "execution_count": null,
      "outputs": [
        {
          "output_type": "execute_result",
          "data": {
            "text/plain": [
              "(904537, 10)"
            ]
          },
          "metadata": {
            "tags": []
          },
          "execution_count": 16
        }
      ]
    },
    {
      "cell_type": "markdown",
      "metadata": {
        "id": "vbmuJtyvmh9u"
      },
      "source": [
        "**Number of unique flights**"
      ]
    },
    {
      "cell_type": "code",
      "metadata": {
        "colab": {
          "base_uri": "https://localhost:8080/"
        },
        "id": "sRkAkhR2mYVO",
        "outputId": "e1f75adf-ff1c-4433-90fb-dd9c3ce5c78e"
      },
      "source": [
        "l2.Aircraft_id.unique().shape"
      ],
      "execution_count": null,
      "outputs": [
        {
          "output_type": "execute_result",
          "data": {
            "text/plain": [
              "(152,)"
            ]
          },
          "metadata": {
            "tags": []
          },
          "execution_count": 21
        }
      ]
    },
    {
      "cell_type": "markdown",
      "metadata": {
        "id": "qtAvLADImJbj"
      },
      "source": [
        "**Number of operators**"
      ]
    },
    {
      "cell_type": "code",
      "metadata": {
        "colab": {
          "base_uri": "https://localhost:8080/"
        },
        "id": "RqSyaKMVlpio",
        "outputId": "56567a68-aaa6-41d0-fd0a-ec5169be283a"
      },
      "source": [
        "l2.L2_LoginID.unique().shape"
      ],
      "execution_count": null,
      "outputs": [
        {
          "output_type": "execute_result",
          "data": {
            "text/plain": [
              "(84,)"
            ]
          },
          "metadata": {
            "tags": []
          },
          "execution_count": 22
        }
      ]
    },
    {
      "cell_type": "markdown",
      "metadata": {
        "id": "P91sb-kmexxW"
      },
      "source": [
        "**L1 operators Decision**"
      ]
    },
    {
      "cell_type": "code",
      "metadata": {
        "colab": {
          "base_uri": "https://localhost:8080/"
        },
        "id": "obnfdi76eq2T",
        "outputId": "4c26eab9-f0b8-4103-8f4f-e1c5a57bcee9"
      },
      "source": [
        "pd.value_counts(l2.L1_Decision)"
      ],
      "execution_count": null,
      "outputs": [
        {
          "output_type": "execute_result",
          "data": {
            "text/plain": [
              "Reject    904537\n",
              "Name: L1_Decision, dtype: int64"
            ]
          },
          "metadata": {
            "tags": []
          },
          "execution_count": 23
        }
      ]
    },
    {
      "cell_type": "markdown",
      "metadata": {
        "id": "HCVq05brlcgc"
      },
      "source": [
        "**Most Used MVXR Machines**"
      ]
    },
    {
      "cell_type": "code",
      "metadata": {
        "colab": {
          "base_uri": "https://localhost:8080/"
        },
        "id": "QJBp92thlWfq",
        "outputId": "88aee449-ec20-45a1-f5b3-54c050732571"
      },
      "source": [
        "pd.value_counts(l2.MVXR)"
      ],
      "execution_count": null,
      "outputs": [
        {
          "output_type": "execute_result",
          "data": {
            "text/plain": [
              "2    393003\n",
              "4    227744\n",
              "3    175724\n",
              "1    108066\n",
              "Name: MVXR, dtype: int64"
            ]
          },
          "metadata": {
            "tags": []
          },
          "execution_count": 24
        }
      ]
    },
    {
      "cell_type": "markdown",
      "metadata": {
        "id": "X-RZljKIfq8M"
      },
      "source": [
        "**L2 operators Decision**"
      ]
    },
    {
      "cell_type": "code",
      "metadata": {
        "colab": {
          "base_uri": "https://localhost:8080/"
        },
        "id": "iIzTu-sye8dO",
        "outputId": "88aa4616-8d40-4075-93c4-0426c02f9303"
      },
      "source": [
        "pd.value_counts(l2.L2_Decision)"
      ],
      "execution_count": null,
      "outputs": [
        {
          "output_type": "execute_result",
          "data": {
            "text/plain": [
              "Accept            730225\n",
              "Reject            154151\n",
              "Time out           20079\n",
              "Default Reject        82\n",
              "Name: L2_Decision, dtype: int64"
            ]
          },
          "metadata": {
            "tags": []
          },
          "execution_count": 25
        }
      ]
    },
    {
      "cell_type": "markdown",
      "metadata": {
        "id": "ZUeDxipwkDwn"
      },
      "source": [
        "**Removin Default Reject in L2_Decision**"
      ]
    },
    {
      "cell_type": "code",
      "metadata": {
        "id": "8P-M8aTfBNqa"
      },
      "source": [
        "################## Removing \"Default reject\" from the columns & checking unique values again\n",
        "l2 = l2[l2.L2_Decision != 'Default Reject']"
      ],
      "execution_count": null,
      "outputs": []
    },
    {
      "cell_type": "code",
      "metadata": {
        "colab": {
          "base_uri": "https://localhost:8080/"
        },
        "id": "gX5GtZgbkBqr",
        "outputId": "cf9c8c98-ef59-4cd5-ca5f-a474c8cb8966"
      },
      "source": [
        "pd.value_counts(l2.L2_Decision)"
      ],
      "execution_count": null,
      "outputs": [
        {
          "output_type": "execute_result",
          "data": {
            "text/plain": [
              "Accept      730225\n",
              "Reject      154151\n",
              "Time out     20079\n",
              "Name: L2_Decision, dtype: int64"
            ]
          },
          "metadata": {
            "tags": []
          },
          "execution_count": 27
        }
      ]
    },
    {
      "cell_type": "code",
      "metadata": {
        "id": "3fl4r1yf7kTX"
      },
      "source": [
        "################### Creating bins\n",
        "bins = [0, 8, 17, 25, 30]\n",
        "labels = [\"Excellent_operator\",\"Good_operator\",\"Normal_operator\",\"Worst_operator\"]\n",
        "l2['l2_decision'] = pd.cut(l2['Operator_L2_time'], bins=bins, labels=labels)"
      ],
      "execution_count": null,
      "outputs": []
    },
    {
      "cell_type": "code",
      "metadata": {
        "colab": {
          "base_uri": "https://localhost:8080/"
        },
        "id": "EPdz20ZmcXxY",
        "outputId": "c7ddb0c9-2841-4714-bae0-1026576640f0"
      },
      "source": [
        "l2.l2_decision.unique()"
      ],
      "execution_count": null,
      "outputs": [
        {
          "output_type": "execute_result",
          "data": {
            "text/plain": [
              "['Worst_operator', 'Good_operator', 'Excellent_operator', 'Normal_operator', NaN]\n",
              "Categories (4, object): ['Excellent_operator' < 'Good_operator' < 'Normal_operator' < 'Worst_operator']"
            ]
          },
          "metadata": {
            "tags": []
          },
          "execution_count": 29
        }
      ]
    },
    {
      "cell_type": "code",
      "metadata": {
        "colab": {
          "base_uri": "https://localhost:8080/"
        },
        "id": "B04yGmcX_DLA",
        "outputId": "6a4d024c-c5c3-441d-ae63-69890619029c"
      },
      "source": [
        "l2 = l2.dropna()\n",
        "l2.isnull().sum()"
      ],
      "execution_count": null,
      "outputs": [
        {
          "output_type": "execute_result",
          "data": {
            "text/plain": [
              "0\n",
              "BagID               0\n",
              "MVXR                0\n",
              "BHSID               0\n",
              "L1_Decision         0\n",
              "L1_Decision_Time    0\n",
              "L2_Decision         0\n",
              "L2_LoginID          0\n",
              "L2_Decision_Time    0\n",
              "Operator_L2_time    0\n",
              "Aircraft_id         0\n",
              "l2_decision         0\n",
              "dtype: int64"
            ]
          },
          "metadata": {
            "tags": []
          },
          "execution_count": 19
        }
      ]
    },
    {
      "cell_type": "code",
      "metadata": {
        "colab": {
          "base_uri": "https://localhost:8080/"
        },
        "id": "y-AQY-_WdTra",
        "outputId": "3b82670a-1813-405c-a6f7-614635c2aad0"
      },
      "source": [
        "l2.shape"
      ],
      "execution_count": null,
      "outputs": [
        {
          "output_type": "execute_result",
          "data": {
            "text/plain": [
              "(904424, 11)"
            ]
          },
          "metadata": {
            "tags": []
          },
          "execution_count": 31
        }
      ]
    },
    {
      "cell_type": "markdown",
      "metadata": {
        "id": "EtNtnKQb6snu"
      },
      "source": [
        "**Dropping irrelevant columns**"
      ]
    },
    {
      "cell_type": "code",
      "metadata": {
        "id": "y7EC8v9H9sMX"
      },
      "source": [
        "l2 = l2.drop(['BagID','BHSID','L1_Decision', 'L2_Decision','L1_Decision_Time','L2_Decision_Time','MVXR'],axis=1)"
      ],
      "execution_count": null,
      "outputs": []
    },
    {
      "cell_type": "code",
      "metadata": {
        "colab": {
          "base_uri": "https://localhost:8080/",
          "height": 204
        },
        "id": "LOhvrCU98-uW",
        "outputId": "9c250c4c-97d4-42d6-fe42-cb8d72a8fc86"
      },
      "source": [
        "l2.head()"
      ],
      "execution_count": null,
      "outputs": [
        {
          "output_type": "execute_result",
          "data": {
            "text/html": [
              "<div>\n",
              "<style scoped>\n",
              "    .dataframe tbody tr th:only-of-type {\n",
              "        vertical-align: middle;\n",
              "    }\n",
              "\n",
              "    .dataframe tbody tr th {\n",
              "        vertical-align: top;\n",
              "    }\n",
              "\n",
              "    .dataframe thead th {\n",
              "        text-align: right;\n",
              "    }\n",
              "</style>\n",
              "<table border=\"1\" class=\"dataframe\">\n",
              "  <thead>\n",
              "    <tr style=\"text-align: right;\">\n",
              "      <th></th>\n",
              "      <th>L2_LoginID</th>\n",
              "      <th>Operator_L2_time</th>\n",
              "      <th>Aircraft_id</th>\n",
              "      <th>l2_decision</th>\n",
              "    </tr>\n",
              "  </thead>\n",
              "  <tbody>\n",
              "    <tr>\n",
              "      <th>0</th>\n",
              "      <td>32661</td>\n",
              "      <td>27</td>\n",
              "      <td>0312</td>\n",
              "      <td>Worst_operator</td>\n",
              "    </tr>\n",
              "    <tr>\n",
              "      <th>1</th>\n",
              "      <td>32661</td>\n",
              "      <td>13</td>\n",
              "      <td>0312</td>\n",
              "      <td>Good_operator</td>\n",
              "    </tr>\n",
              "    <tr>\n",
              "      <th>2</th>\n",
              "      <td>32153</td>\n",
              "      <td>5</td>\n",
              "      <td>0312</td>\n",
              "      <td>Excellent_operator</td>\n",
              "    </tr>\n",
              "    <tr>\n",
              "      <th>3</th>\n",
              "      <td>32153</td>\n",
              "      <td>11</td>\n",
              "      <td>0312</td>\n",
              "      <td>Good_operator</td>\n",
              "    </tr>\n",
              "    <tr>\n",
              "      <th>4</th>\n",
              "      <td>32153</td>\n",
              "      <td>5</td>\n",
              "      <td>0312</td>\n",
              "      <td>Excellent_operator</td>\n",
              "    </tr>\n",
              "  </tbody>\n",
              "</table>\n",
              "</div>"
            ],
            "text/plain": [
              "0  L2_LoginID  Operator_L2_time Aircraft_id         l2_decision\n",
              "0       32661                27        0312      Worst_operator\n",
              "1       32661                13        0312       Good_operator\n",
              "2       32153                 5        0312  Excellent_operator\n",
              "3       32153                11        0312       Good_operator\n",
              "4       32153                 5        0312  Excellent_operator"
            ]
          },
          "metadata": {
            "tags": []
          },
          "execution_count": 21
        }
      ]
    },
    {
      "cell_type": "markdown",
      "metadata": {
        "id": "ba02O9WGka7H"
      },
      "source": [
        "**Shifting Operator_L2_time to first column**"
      ]
    },
    {
      "cell_type": "code",
      "metadata": {
        "id": "5czWXOui7QFD"
      },
      "source": [
        "# Shift column 'Operator_L2_time' to first position\n",
        "first_column = l2.pop('l2_decision')\n",
        "  \n",
        "# insert column to first in data frame \n",
        "l2.insert(0, 'l2_decision', first_column)"
      ],
      "execution_count": null,
      "outputs": []
    },
    {
      "cell_type": "code",
      "metadata": {
        "colab": {
          "base_uri": "https://localhost:8080/",
          "height": 204
        },
        "id": "21gFuXcMhitY",
        "outputId": "03615e3e-d665-477f-ff79-d1011069c2ee"
      },
      "source": [
        "l2.head()"
      ],
      "execution_count": null,
      "outputs": [
        {
          "output_type": "execute_result",
          "data": {
            "text/html": [
              "<div>\n",
              "<style scoped>\n",
              "    .dataframe tbody tr th:only-of-type {\n",
              "        vertical-align: middle;\n",
              "    }\n",
              "\n",
              "    .dataframe tbody tr th {\n",
              "        vertical-align: top;\n",
              "    }\n",
              "\n",
              "    .dataframe thead th {\n",
              "        text-align: right;\n",
              "    }\n",
              "</style>\n",
              "<table border=\"1\" class=\"dataframe\">\n",
              "  <thead>\n",
              "    <tr style=\"text-align: right;\">\n",
              "      <th></th>\n",
              "      <th>l2_decision</th>\n",
              "      <th>L2_LoginID</th>\n",
              "      <th>Operator_L2_time</th>\n",
              "      <th>Aircraft_id</th>\n",
              "    </tr>\n",
              "  </thead>\n",
              "  <tbody>\n",
              "    <tr>\n",
              "      <th>0</th>\n",
              "      <td>Worst_operator</td>\n",
              "      <td>32661</td>\n",
              "      <td>27</td>\n",
              "      <td>0312</td>\n",
              "    </tr>\n",
              "    <tr>\n",
              "      <th>1</th>\n",
              "      <td>Good_operator</td>\n",
              "      <td>32661</td>\n",
              "      <td>13</td>\n",
              "      <td>0312</td>\n",
              "    </tr>\n",
              "    <tr>\n",
              "      <th>2</th>\n",
              "      <td>Excellent_operator</td>\n",
              "      <td>32153</td>\n",
              "      <td>5</td>\n",
              "      <td>0312</td>\n",
              "    </tr>\n",
              "    <tr>\n",
              "      <th>3</th>\n",
              "      <td>Good_operator</td>\n",
              "      <td>32153</td>\n",
              "      <td>11</td>\n",
              "      <td>0312</td>\n",
              "    </tr>\n",
              "    <tr>\n",
              "      <th>4</th>\n",
              "      <td>Excellent_operator</td>\n",
              "      <td>32153</td>\n",
              "      <td>5</td>\n",
              "      <td>0312</td>\n",
              "    </tr>\n",
              "  </tbody>\n",
              "</table>\n",
              "</div>"
            ],
            "text/plain": [
              "0         l2_decision  L2_LoginID  Operator_L2_time Aircraft_id\n",
              "0      Worst_operator       32661                27        0312\n",
              "1       Good_operator       32661                13        0312\n",
              "2  Excellent_operator       32153                 5        0312\n",
              "3       Good_operator       32153                11        0312\n",
              "4  Excellent_operator       32153                 5        0312"
            ]
          },
          "metadata": {
            "tags": []
          },
          "execution_count": 23
        }
      ]
    },
    {
      "cell_type": "markdown",
      "metadata": {
        "id": "EYkcy9r9kz88"
      },
      "source": [
        "**First & Second Moment of business decision**"
      ]
    },
    {
      "cell_type": "code",
      "metadata": {
        "colab": {
          "base_uri": "https://localhost:8080/"
        },
        "id": "8ZlDkx6NoCrB",
        "outputId": "e3c85ebf-9926-4b93-8f17-1e62be7c4882"
      },
      "source": [
        "l2['Operator_L2_time'].describe()"
      ],
      "execution_count": null,
      "outputs": [
        {
          "output_type": "execute_result",
          "data": {
            "text/plain": [
              "count    904424.000000\n",
              "mean         14.814497\n",
              "std           7.137860\n",
              "min           1.000000\n",
              "25%           9.000000\n",
              "50%          14.000000\n",
              "75%          21.000000\n",
              "max          29.000000\n",
              "Name: Operator_L2_time, dtype: float64"
            ]
          },
          "metadata": {
            "tags": []
          },
          "execution_count": 36
        }
      ]
    },
    {
      "cell_type": "code",
      "metadata": {
        "colab": {
          "base_uri": "https://localhost:8080/"
        },
        "id": "TUa89vPgfVY7",
        "outputId": "6a428e47-38ab-4f41-a4c5-bb6cad9a7c89"
      },
      "source": [
        "pd.value_counts(l2.Operator_L2_time)"
      ],
      "execution_count": null,
      "outputs": [
        {
          "output_type": "execute_result",
          "data": {
            "text/plain": [
              "9     44879\n",
              "8     44439\n",
              "10    44096\n",
              "7     43218\n",
              "11    43032\n",
              "12    41823\n",
              "6     41429\n",
              "27    40611\n",
              "13    39829\n",
              "14    38182\n",
              "5     36863\n",
              "15    36409\n",
              "16    35005\n",
              "17    33667\n",
              "18    32570\n",
              "19    31227\n",
              "26    30951\n",
              "22    30812\n",
              "20    30779\n",
              "24    30667\n",
              "23    30657\n",
              "21    30314\n",
              "4     30297\n",
              "25    30146\n",
              "3     16295\n",
              "28    13378\n",
              "2      2733\n",
              "1        86\n",
              "29       30\n",
              "Name: Operator_L2_time, dtype: int64"
            ]
          },
          "metadata": {
            "tags": []
          },
          "execution_count": 37
        }
      ]
    },
    {
      "cell_type": "code",
      "metadata": {
        "colab": {
          "base_uri": "https://localhost:8080/"
        },
        "id": "XhV9KMnakayF",
        "outputId": "19bd4f47-a7c4-4758-ea7f-1dea56af0ad4"
      },
      "source": [
        "pd.value_counts(l2.Aircraft_id)"
      ],
      "execution_count": null,
      "outputs": [
        {
          "output_type": "execute_result",
          "data": {
            "text/plain": [
              "0312    487807\n",
              "0775    105472\n",
              "0098     78873\n",
              "0807     72378\n",
              "0001     56876\n",
              "         ...  \n",
              "9188         1\n",
              "0790         1\n",
              "8128         1\n",
              "0316         1\n",
              "0028         1\n",
              "Name: Aircraft_id, Length: 152, dtype: int64"
            ]
          },
          "metadata": {
            "tags": []
          },
          "execution_count": 39
        }
      ]
    },
    {
      "cell_type": "code",
      "metadata": {
        "colab": {
          "base_uri": "https://localhost:8080/",
          "height": 434
        },
        "id": "IzyFqTd0lF3o",
        "outputId": "c7d189b3-bca0-4b2b-b006-3eb9f6acceba"
      },
      "source": [
        "plt.figure(figsize=(8,5))\n",
        "sns.catplot(x=\"L2_Decision\", kind=\"count\", data=l2)\n",
        "plt.title('L2_Decision')"
      ],
      "execution_count": null,
      "outputs": [
        {
          "output_type": "execute_result",
          "data": {
            "text/plain": [
              "Text(0.5, 1.0, 'L2_Decision')"
            ]
          },
          "metadata": {
            "tags": []
          },
          "execution_count": 110
        },
        {
          "output_type": "display_data",
          "data": {
            "text/plain": [
              "<Figure size 576x360 with 0 Axes>"
            ]
          },
          "metadata": {
            "tags": []
          }
        },
        {
          "output_type": "display_data",
          "data": {
            "image/png": "[encoded data removed]",
            "text/plain": [
              "<Figure size 360x360 with 1 Axes>"
            ]
          },
          "metadata": {
            "tags": []
          }
        }
      ]
    },
    {
      "cell_type": "markdown",
      "metadata": {
        "id": "LdQZ7rizNEZe"
      },
      "source": [
        "**Corealtion**"
      ]
    },
    {
      "cell_type": "code",
      "metadata": {
        "colab": {
          "base_uri": "https://localhost:8080/",
          "height": 363
        },
        "id": "HzlqBg7GM6js",
        "outputId": "64d0429b-fb4d-4fb3-9749-7ac582d4cf08"
      },
      "source": [
        "plt.figure(figsize=(8,5))\n",
        "corelation = l2.corr() \n",
        "sns.heatmap(corelation, xticklabels=corelation.columns,\n",
        "            yticklabels=corelation.columns,cmap=\"YlGnBu\",annot=True)"
      ],
      "execution_count": null,
      "outputs": [
        {
          "output_type": "execute_result",
          "data": {
            "text/plain": [
              "<matplotlib.axes._subplots.AxesSubplot at 0x7f6c61f8a390>"
            ]
          },
          "metadata": {
            "tags": []
          },
          "execution_count": 40
        },
        {
          "output_type": "display_data",
          "data": {
            "image/png": "[encoded data removed]",
            "text/plain": [
              "<Figure size 576x360 with 2 Axes>"
            ]
          },
          "metadata": {
            "tags": []
          }
        }
      ]
    },
    {
      "cell_type": "code",
      "metadata": {
        "colab": {
          "base_uri": "https://localhost:8080/"
        },
        "id": "a0KlITW1CP1p",
        "outputId": "827a45f8-b00b-4d60-c291-7f13ff7effae"
      },
      "source": [
        "l2.shape"
      ],
      "execution_count": null,
      "outputs": [
        {
          "output_type": "execute_result",
          "data": {
            "text/plain": [
              "(904424, 5)"
            ]
          },
          "metadata": {
            "tags": []
          },
          "execution_count": 41
        }
      ]
    },
    {
      "cell_type": "markdown",
      "metadata": {
        "id": "J-qddgYkGanN"
      },
      "source": [
        "**Checking the number of bags got accepted by L2 Operators but took leass than and equal to 25 seconds**"
      ]
    },
    {
      "cell_type": "code",
      "metadata": {
        "colab": {
          "base_uri": "https://localhost:8080/"
        },
        "id": "Ypq3qQsRF-YH",
        "outputId": "8980592a-6954-404e-d4d2-69b0b9684a12"
      },
      "source": [
        "l2_accept_less_25 = l2[l2.L2_Decision == 'Accept']\n",
        "l2_accept_less_25 = l2_accept_less_25[l2_accept_less_25.Operator_L2_time <= 25]\n",
        "l2_accept_less_25.shape"
      ],
      "execution_count": null,
      "outputs": [
        {
          "output_type": "execute_result",
          "data": {
            "text/plain": [
              "(679255, 5)"
            ]
          },
          "metadata": {
            "tags": []
          },
          "execution_count": 129
        }
      ]
    },
    {
      "cell_type": "markdown",
      "metadata": {
        "id": "CxyorzO4H8T7"
      },
      "source": [
        "**Checking the number of bags got accepted by L2 Operators but took more than 25 seconds**"
      ]
    },
    {
      "cell_type": "code",
      "metadata": {
        "colab": {
          "base_uri": "https://localhost:8080/"
        },
        "id": "eOw23PgsH8T8",
        "outputId": "128c1897-884f-428f-cbfe-31c6554a5628"
      },
      "source": [
        "l2_accept_more_25 = l2[l2.L2_Decision == 'Accept']\n",
        "l2_accept_more_25 = l2_accept_more_25[l2_accept_more_25.Operator_L2_time > 25]\n",
        "l2_accept_more_25.shape"
      ],
      "execution_count": null,
      "outputs": [
        {
          "output_type": "execute_result",
          "data": {
            "text/plain": [
              "(50970, 5)"
            ]
          },
          "metadata": {
            "tags": []
          },
          "execution_count": 153
        }
      ]
    },
    {
      "cell_type": "code",
      "metadata": {
        "colab": {
          "base_uri": "https://localhost:8080/",
          "height": 204
        },
        "id": "_XG3LcZb_vMZ",
        "outputId": "e54c500b-9ca3-465d-96d5-3026b59fadf7"
      },
      "source": [
        "l2_accept_more_25['L2_Decision'] = l2_accept_more_25['L2_Decision'].replace(['Accept'], 'Late_Accepted')\n",
        "l2_accept_more_25.head()"
      ],
      "execution_count": null,
      "outputs": [
        {
          "output_type": "execute_result",
          "data": {
            "text/html": [
              "<div>\n",
              "<style scoped>\n",
              "    .dataframe tbody tr th:only-of-type {\n",
              "        vertical-align: middle;\n",
              "    }\n",
              "\n",
              "    .dataframe tbody tr th {\n",
              "        vertical-align: top;\n",
              "    }\n",
              "\n",
              "    .dataframe thead th {\n",
              "        text-align: right;\n",
              "    }\n",
              "</style>\n",
              "<table border=\"1\" class=\"dataframe\">\n",
              "  <thead>\n",
              "    <tr style=\"text-align: right;\">\n",
              "      <th></th>\n",
              "      <th>Operator_L2_time</th>\n",
              "      <th>MVXR</th>\n",
              "      <th>L2_Decision</th>\n",
              "      <th>L2_LoginID</th>\n",
              "      <th>Aircraft_id</th>\n",
              "    </tr>\n",
              "  </thead>\n",
              "  <tbody>\n",
              "    <tr>\n",
              "      <th>31</th>\n",
              "      <td>28</td>\n",
              "      <td>2</td>\n",
              "      <td>Late_Accepted</td>\n",
              "      <td>31230</td>\n",
              "      <td>0312</td>\n",
              "    </tr>\n",
              "    <tr>\n",
              "      <th>38</th>\n",
              "      <td>27</td>\n",
              "      <td>2</td>\n",
              "      <td>Late_Accepted</td>\n",
              "      <td>32648</td>\n",
              "      <td>0312</td>\n",
              "    </tr>\n",
              "    <tr>\n",
              "      <th>40</th>\n",
              "      <td>26</td>\n",
              "      <td>3</td>\n",
              "      <td>Late_Accepted</td>\n",
              "      <td>31230</td>\n",
              "      <td>0775</td>\n",
              "    </tr>\n",
              "    <tr>\n",
              "      <th>75</th>\n",
              "      <td>27</td>\n",
              "      <td>2</td>\n",
              "      <td>Late_Accepted</td>\n",
              "      <td>32153</td>\n",
              "      <td>0312</td>\n",
              "    </tr>\n",
              "    <tr>\n",
              "      <th>87</th>\n",
              "      <td>26</td>\n",
              "      <td>2</td>\n",
              "      <td>Late_Accepted</td>\n",
              "      <td>32878</td>\n",
              "      <td>0312</td>\n",
              "    </tr>\n",
              "  </tbody>\n",
              "</table>\n",
              "</div>"
            ],
            "text/plain": [
              "0   Operator_L2_time  MVXR    L2_Decision  L2_LoginID Aircraft_id\n",
              "31                28     2  Late_Accepted       31230        0312\n",
              "38                27     2  Late_Accepted       32648        0312\n",
              "40                26     3  Late_Accepted       31230        0775\n",
              "75                27     2  Late_Accepted       32153        0312\n",
              "87                26     2  Late_Accepted       32878        0312"
            ]
          },
          "metadata": {
            "tags": []
          },
          "execution_count": 154
        }
      ]
    },
    {
      "cell_type": "markdown",
      "metadata": {
        "id": "z7ukWo17LOF7"
      },
      "source": [
        "**Checking the number of bags got rejected by L2 Operators**"
      ]
    },
    {
      "cell_type": "code",
      "metadata": {
        "id": "jNNF2SXbJTIh"
      },
      "source": [
        "l2_reject = l2[l2.L2_Decision == 'Reject']"
      ],
      "execution_count": null,
      "outputs": []
    },
    {
      "cell_type": "code",
      "metadata": {
        "colab": {
          "base_uri": "https://localhost:8080/"
        },
        "id": "nElTV_giJd7m",
        "outputId": "df539bf4-c859-4007-c9ba-f392ee3a396c"
      },
      "source": [
        "l2_reject.shape"
      ],
      "execution_count": null,
      "outputs": [
        {
          "output_type": "execute_result",
          "data": {
            "text/plain": [
              "(154151, 5)"
            ]
          },
          "metadata": {
            "tags": []
          },
          "execution_count": 169
        }
      ]
    },
    {
      "cell_type": "code",
      "metadata": {
        "colab": {
          "base_uri": "https://localhost:8080/"
        },
        "id": "pAzKUg_0-pts",
        "outputId": "61959399-a431-4e3d-9366-dfed35e4c096"
      },
      "source": [
        "l2_reject_less_25 = l2[l2.L2_Decision == 'Reject']\n",
        "l2_reject_less_25 = l2_reject_less_25[l2_reject_less_25.Operator_L2_time <= 25]\n",
        "l2_reject_less_25.shape"
      ],
      "execution_count": null,
      "outputs": [
        {
          "output_type": "execute_result",
          "data": {
            "text/plain": [
              "(140181, 5)"
            ]
          },
          "metadata": {
            "tags": []
          },
          "execution_count": 170
        }
      ]
    },
    {
      "cell_type": "markdown",
      "metadata": {
        "id": "hCtuMaRTLUMe"
      },
      "source": [
        "**Checking the number of bags got Timed out by L2 Operators**"
      ]
    },
    {
      "cell_type": "code",
      "metadata": {
        "id": "-AlCMRg1Jv2w"
      },
      "source": [
        "l2_timeout = l2[l2.L2_Decision == 'Time out']"
      ],
      "execution_count": null,
      "outputs": []
    },
    {
      "cell_type": "code",
      "metadata": {
        "colab": {
          "base_uri": "https://localhost:8080/"
        },
        "id": "xZaXvV1HJ4Ct",
        "outputId": "c76738bd-872e-4ce2-9c86-1c1248e29f1d"
      },
      "source": [
        "l2_timeout.shape"
      ],
      "execution_count": null,
      "outputs": [
        {
          "output_type": "execute_result",
          "data": {
            "text/plain": [
              "(20079, 5)"
            ]
          },
          "metadata": {
            "tags": []
          },
          "execution_count": 158
        }
      ]
    },
    {
      "cell_type": "markdown",
      "metadata": {
        "id": "IFlXEpskINoC"
      },
      "source": [
        "**Creating a new dataframe**"
      ]
    },
    {
      "cell_type": "code",
      "metadata": {
        "colab": {
          "base_uri": "https://localhost:8080/",
          "height": 204
        },
        "id": "YaHLio7VIKl5",
        "outputId": "1748ec6c-659c-4e7d-e9d9-f5d07a197301"
      },
      "source": [
        "df_l2 = l2_accept_less_25.append([l2_accept_more_25,l2_reject, l2_timeout])\n",
        "df_l2 = df_l2.sample(frac=1, axis=0)\n",
        "df_l2.head()"
      ],
      "execution_count": null,
      "outputs": [
        {
          "output_type": "execute_result",
          "data": {
            "text/html": [
              "<div>\n",
              "<style scoped>\n",
              "    .dataframe tbody tr th:only-of-type {\n",
              "        vertical-align: middle;\n",
              "    }\n",
              "\n",
              "    .dataframe tbody tr th {\n",
              "        vertical-align: top;\n",
              "    }\n",
              "\n",
              "    .dataframe thead th {\n",
              "        text-align: right;\n",
              "    }\n",
              "</style>\n",
              "<table border=\"1\" class=\"dataframe\">\n",
              "  <thead>\n",
              "    <tr style=\"text-align: right;\">\n",
              "      <th></th>\n",
              "      <th>Operator_L2_time</th>\n",
              "      <th>MVXR</th>\n",
              "      <th>L2_Decision</th>\n",
              "      <th>L2_LoginID</th>\n",
              "      <th>Aircraft_id</th>\n",
              "    </tr>\n",
              "  </thead>\n",
              "  <tbody>\n",
              "    <tr>\n",
              "      <th>1200</th>\n",
              "      <td>2</td>\n",
              "      <td>2</td>\n",
              "      <td>Accept</td>\n",
              "      <td>30921</td>\n",
              "      <td>0312</td>\n",
              "    </tr>\n",
              "    <tr>\n",
              "      <th>209975</th>\n",
              "      <td>18</td>\n",
              "      <td>1</td>\n",
              "      <td>Accept</td>\n",
              "      <td>30921</td>\n",
              "      <td>0228</td>\n",
              "    </tr>\n",
              "    <tr>\n",
              "      <th>838072</th>\n",
              "      <td>12</td>\n",
              "      <td>2</td>\n",
              "      <td>Accept</td>\n",
              "      <td>31388</td>\n",
              "      <td>0312</td>\n",
              "    </tr>\n",
              "    <tr>\n",
              "      <th>46366</th>\n",
              "      <td>26</td>\n",
              "      <td>1</td>\n",
              "      <td>Reject</td>\n",
              "      <td>32648</td>\n",
              "      <td>0312</td>\n",
              "    </tr>\n",
              "    <tr>\n",
              "      <th>396916</th>\n",
              "      <td>26</td>\n",
              "      <td>3</td>\n",
              "      <td>Late_Accepted</td>\n",
              "      <td>32887</td>\n",
              "      <td>0775</td>\n",
              "    </tr>\n",
              "  </tbody>\n",
              "</table>\n",
              "</div>"
            ],
            "text/plain": [
              "0       Operator_L2_time  MVXR    L2_Decision  L2_LoginID Aircraft_id\n",
              "1200                   2     2         Accept       30921        0312\n",
              "209975                18     1         Accept       30921        0228\n",
              "838072                12     2         Accept       31388        0312\n",
              "46366                 26     1         Reject       32648        0312\n",
              "396916                26     3  Late_Accepted       32887        0775"
            ]
          },
          "metadata": {
            "tags": []
          },
          "execution_count": 167
        }
      ]
    },
    {
      "cell_type": "markdown",
      "metadata": {
        "id": "Qgum7qdJKE2W"
      },
      "source": [
        "**Taking 3% of sample data for modeling**"
      ]
    },
    {
      "cell_type": "code",
      "metadata": {
        "colab": {
          "base_uri": "https://localhost:8080/",
          "height": 204
        },
        "id": "ildTN2VI65Qd",
        "outputId": "2ab94bf1-ecdd-4c9a-a1ed-712e0eff4afc"
      },
      "source": [
        "rows = l2.sample(frac =.05)\n",
        "rows.head(5)"
      ],
      "execution_count": null,
      "outputs": [
        {
          "output_type": "execute_result",
          "data": {
            "text/html": [
              "<div>\n",
              "<style scoped>\n",
              "    .dataframe tbody tr th:only-of-type {\n",
              "        vertical-align: middle;\n",
              "    }\n",
              "\n",
              "    .dataframe tbody tr th {\n",
              "        vertical-align: top;\n",
              "    }\n",
              "\n",
              "    .dataframe thead th {\n",
              "        text-align: right;\n",
              "    }\n",
              "</style>\n",
              "<table border=\"1\" class=\"dataframe\">\n",
              "  <thead>\n",
              "    <tr style=\"text-align: right;\">\n",
              "      <th></th>\n",
              "      <th>l2_decision</th>\n",
              "      <th>L2_LoginID</th>\n",
              "      <th>Operator_L2_time</th>\n",
              "      <th>Aircraft_id</th>\n",
              "    </tr>\n",
              "  </thead>\n",
              "  <tbody>\n",
              "    <tr>\n",
              "      <th>234862</th>\n",
              "      <td>Excellent_operator</td>\n",
              "      <td>31225</td>\n",
              "      <td>8</td>\n",
              "      <td>0312</td>\n",
              "    </tr>\n",
              "    <tr>\n",
              "      <th>410378</th>\n",
              "      <td>Normal_operator</td>\n",
              "      <td>32663</td>\n",
              "      <td>25</td>\n",
              "      <td>0312</td>\n",
              "    </tr>\n",
              "    <tr>\n",
              "      <th>223357</th>\n",
              "      <td>Good_operator</td>\n",
              "      <td>32149</td>\n",
              "      <td>11</td>\n",
              "      <td>0312</td>\n",
              "    </tr>\n",
              "    <tr>\n",
              "      <th>678884</th>\n",
              "      <td>Good_operator</td>\n",
              "      <td>19161</td>\n",
              "      <td>12</td>\n",
              "      <td>0312</td>\n",
              "    </tr>\n",
              "    <tr>\n",
              "      <th>548918</th>\n",
              "      <td>Normal_operator</td>\n",
              "      <td>2918</td>\n",
              "      <td>21</td>\n",
              "      <td>0807</td>\n",
              "    </tr>\n",
              "  </tbody>\n",
              "</table>\n",
              "</div>"
            ],
            "text/plain": [
              "0              l2_decision  L2_LoginID  Operator_L2_time Aircraft_id\n",
              "234862  Excellent_operator       31225                 8        0312\n",
              "410378     Normal_operator       32663                25        0312\n",
              "223357       Good_operator       32149                11        0312\n",
              "678884       Good_operator       19161                12        0312\n",
              "548918     Normal_operator        2918                21        0807"
            ]
          },
          "metadata": {
            "tags": []
          },
          "execution_count": 126
        }
      ]
    },
    {
      "cell_type": "code",
      "metadata": {
        "colab": {
          "base_uri": "https://localhost:8080/"
        },
        "id": "ngoECTrj7Ke-",
        "outputId": "1bcbac5e-3a3b-44b2-9071-770d022ec743"
      },
      "source": [
        "rows.shape"
      ],
      "execution_count": null,
      "outputs": [
        {
          "output_type": "execute_result",
          "data": {
            "text/plain": [
              "(45221, 4)"
            ]
          },
          "metadata": {
            "tags": []
          },
          "execution_count": 127
        }
      ]
    },
    {
      "cell_type": "markdown",
      "metadata": {
        "id": "QpsvOu6UGYuE"
      },
      "source": [
        "# **Modelling**"
      ]
    },
    {
      "cell_type": "code",
      "metadata": {
        "id": "nFrGLzYz9TRu"
      },
      "source": [
        "##################### Traget & Predictors\n",
        "X = rows.iloc[:,1:].values\n",
        "y = rows.iloc[:,0].values"
      ],
      "execution_count": null,
      "outputs": []
    },
    {
      "cell_type": "code",
      "metadata": {
        "id": "JtnfgdxbB4hI"
      },
      "source": [
        "##################### Splitting the dataset into the Training set and Test set\n",
        "from sklearn.model_selection import train_test_split\n",
        "X_train, X_test, y_train, y_test = train_test_split(X, y, test_size = 0.2, random_state =42)"
      ],
      "execution_count": null,
      "outputs": []
    },
    {
      "cell_type": "markdown",
      "metadata": {
        "id": "GFHRUB2lcN9H"
      },
      "source": [
        "# **Multinomial**"
      ]
    },
    {
      "cell_type": "code",
      "metadata": {
        "colab": {
          "base_uri": "https://localhost:8080/"
        },
        "id": "p9rM2OYI-rEB",
        "outputId": "2a8af270-ac90-4dcc-ad5a-8f54bb9d6541"
      },
      "source": [
        "from sklearn.linear_model import LogisticRegression\n",
        "classifier = LogisticRegression(multi_class = \"multinomial\", solver = \"newton-cg\",n_jobs=-1,max_iter=130)\n",
        "classifier.fit(X_train, y_train)"
      ],
      "execution_count": null,
      "outputs": [
        {
          "output_type": "execute_result",
          "data": {
            "text/plain": [
              "LogisticRegression(C=1.0, class_weight=None, dual=False, fit_intercept=True,\n",
              "                   intercept_scaling=1, l1_ratio=None, max_iter=130,\n",
              "                   multi_class='multinomial', n_jobs=-1, penalty='l2',\n",
              "                   random_state=None, solver='newton-cg', tol=0.0001, verbose=0,\n",
              "                   warm_start=False)"
            ]
          },
          "metadata": {
            "tags": []
          },
          "execution_count": 147
        }
      ]
    },
    {
      "cell_type": "code",
      "metadata": {
        "id": "6UHVqQyS-rBh"
      },
      "source": [
        "y_pred = classifier.predict(X_test)\n",
        "Prediction = pd.DataFrame(y_pred)"
      ],
      "execution_count": null,
      "outputs": []
    },
    {
      "cell_type": "code",
      "metadata": {
        "colab": {
          "base_uri": "https://localhost:8080/"
        },
        "id": "Tj9Co8fP_2kG",
        "outputId": "057084ac-3b5b-40f4-fdaf-e4696d3df293"
      },
      "source": [
        "from sklearn.metrics import confusion_matrix\n",
        "cm = confusion_matrix(y_test, y_pred)\n",
        "cm"
      ],
      "execution_count": null,
      "outputs": [
        {
          "output_type": "execute_result",
          "data": {
            "text/plain": [
              "array([[2128,   12,    0,    0],\n",
              "       [   9, 3509,   52,    0],\n",
              "       [   0,   14, 2395,   61],\n",
              "       [   0,    0,   75,  790]])"
            ]
          },
          "metadata": {
            "tags": []
          },
          "execution_count": 149
        }
      ]
    },
    {
      "cell_type": "code",
      "metadata": {
        "colab": {
          "base_uri": "https://localhost:8080/"
        },
        "id": "oaOZ4pQx_xK9",
        "outputId": "f402932f-adae-4793-9914-8c090104c225"
      },
      "source": [
        "from sklearn.metrics import accuracy_score\n",
        "print (\"Accuracy is : \", accuracy_score(y_test, y_pred))"
      ],
      "execution_count": null,
      "outputs": [
        {
          "output_type": "stream",
          "text": [
            "Accuracy is :  0.9753454947484799\n"
          ],
          "name": "stdout"
        }
      ]
    },
    {
      "cell_type": "code",
      "metadata": {
        "id": "EBMxs9WdGEoo"
      },
      "source": [
        "X_pred = classifier.predict(X_train)"
      ],
      "execution_count": null,
      "outputs": []
    },
    {
      "cell_type": "code",
      "metadata": {
        "colab": {
          "base_uri": "https://localhost:8080/"
        },
        "id": "8GQA8El8EyfR",
        "outputId": "de92c0a6-0091-4181-d8dc-748f12e44450"
      },
      "source": [
        "from sklearn.metrics import accuracy_score\n",
        "print (\"Accuracy is : \", accuracy_score(y_train, X_pred))"
      ],
      "execution_count": null,
      "outputs": [
        {
          "output_type": "stream",
          "text": [
            "Accuracy is :  0.9779135338345865\n"
          ],
          "name": "stdout"
        }
      ]
    },
    {
      "cell_type": "markdown",
      "metadata": {
        "id": "yNeA6nrV3KVa"
      },
      "source": [
        "# **L3 Operators dataset**"
      ]
    },
    {
      "cell_type": "code",
      "metadata": {
        "colab": {
          "base_uri": "https://localhost:8080/",
          "height": 204
        },
        "id": "-OujxIEZQ7Vr",
        "outputId": "f3d493d8-7ec0-4bc8-a898-c6341f8a4039"
      },
      "source": [
        "l3.head()"
      ],
      "execution_count": null,
      "outputs": [
        {
          "output_type": "execute_result",
          "data": {
            "text/html": [
              "<div>\n",
              "<style scoped>\n",
              "    .dataframe tbody tr th:only-of-type {\n",
              "        vertical-align: middle;\n",
              "    }\n",
              "\n",
              "    .dataframe tbody tr th {\n",
              "        vertical-align: top;\n",
              "    }\n",
              "\n",
              "    .dataframe thead th {\n",
              "        text-align: right;\n",
              "    }\n",
              "</style>\n",
              "<table border=\"1\" class=\"dataframe\">\n",
              "  <thead>\n",
              "    <tr style=\"text-align: right;\">\n",
              "      <th></th>\n",
              "      <th>BagID</th>\n",
              "      <th>MVXR</th>\n",
              "      <th>BHSID</th>\n",
              "      <th>L2_Decision</th>\n",
              "      <th>L2_LoginID</th>\n",
              "      <th>L2_Decision_Time</th>\n",
              "      <th>L3_Decision</th>\n",
              "      <th>L3_LoginID</th>\n",
              "      <th>L3_Decision_Time</th>\n",
              "    </tr>\n",
              "  </thead>\n",
              "  <tbody>\n",
              "    <tr>\n",
              "      <th>0</th>\n",
              "      <td>5178</td>\n",
              "      <td>2</td>\n",
              "      <td>0312365478_0280SD</td>\n",
              "      <td>Time out</td>\n",
              "      <td>32661</td>\n",
              "      <td>1/1/2020 0:16:46</td>\n",
              "      <td>Reject</td>\n",
              "      <td>32887</td>\n",
              "      <td>1/1/2020 0:16:54</td>\n",
              "    </tr>\n",
              "    <tr>\n",
              "      <th>1</th>\n",
              "      <td>5180</td>\n",
              "      <td>2</td>\n",
              "      <td>0312365545_0282SD</td>\n",
              "      <td>Accept</td>\n",
              "      <td>32661</td>\n",
              "      <td>1/1/2020 0:19:41</td>\n",
              "      <td>-</td>\n",
              "      <td>-</td>\n",
              "      <td>-</td>\n",
              "    </tr>\n",
              "    <tr>\n",
              "      <th>2</th>\n",
              "      <td>5187</td>\n",
              "      <td>2</td>\n",
              "      <td>0312365871_0293SD</td>\n",
              "      <td>Accept</td>\n",
              "      <td>32153</td>\n",
              "      <td>1/1/2020 0:24:44</td>\n",
              "      <td>-</td>\n",
              "      <td>-</td>\n",
              "      <td>-</td>\n",
              "    </tr>\n",
              "    <tr>\n",
              "      <th>3</th>\n",
              "      <td>5189</td>\n",
              "      <td>2</td>\n",
              "      <td>0312365971_0296SD</td>\n",
              "      <td>Accept</td>\n",
              "      <td>32153</td>\n",
              "      <td>1/1/2020 0:28:42</td>\n",
              "      <td>-</td>\n",
              "      <td>-</td>\n",
              "      <td>-</td>\n",
              "    </tr>\n",
              "    <tr>\n",
              "      <th>4</th>\n",
              "      <td>5196</td>\n",
              "      <td>2</td>\n",
              "      <td>0312366152_0304SD</td>\n",
              "      <td>Accept</td>\n",
              "      <td>32153</td>\n",
              "      <td>1/1/2020 0:33:47</td>\n",
              "      <td>-</td>\n",
              "      <td>-</td>\n",
              "      <td>-</td>\n",
              "    </tr>\n",
              "  </tbody>\n",
              "</table>\n",
              "</div>"
            ],
            "text/plain": [
              "0 BagID MVXR              BHSID  ... L3_Decision L3_LoginID  L3_Decision_Time\n",
              "0  5178    2  0312365478_0280SD  ...      Reject      32887  1/1/2020 0:16:54\n",
              "1  5180    2  0312365545_0282SD  ...           -          -                 -\n",
              "2  5187    2  0312365871_0293SD  ...           -          -                 -\n",
              "3  5189    2  0312365971_0296SD  ...           -          -                 -\n",
              "4  5196    2  0312366152_0304SD  ...           -          -                 -\n",
              "\n",
              "[5 rows x 9 columns]"
            ]
          },
          "metadata": {
            "tags": []
          },
          "execution_count": 279
        }
      ]
    },
    {
      "cell_type": "code",
      "metadata": {
        "colab": {
          "base_uri": "https://localhost:8080/"
        },
        "id": "T7mzktUCRHIi",
        "outputId": "30cf5508-6a4e-4c7a-c017-bffdbba2bc64"
      },
      "source": [
        "l3.isnull().sum()"
      ],
      "execution_count": null,
      "outputs": [
        {
          "output_type": "execute_result",
          "data": {
            "text/plain": [
              "0\n",
              "BagID                   0\n",
              "MVXR                    0\n",
              "BHSID                   6\n",
              "L2_Decision             0\n",
              "L2_LoginID          33283\n",
              "L2_Decision_Time        0\n",
              "L3_Decision             0\n",
              "L3_LoginID           1798\n",
              "L3_Decision_Time        0\n",
              "dtype: int64"
            ]
          },
          "metadata": {
            "tags": []
          },
          "execution_count": 280
        }
      ]
    },
    {
      "cell_type": "code",
      "metadata": {
        "colab": {
          "base_uri": "https://localhost:8080/",
          "height": 204
        },
        "id": "KEgBPPTVRLD5",
        "outputId": "7eaac0da-c7c6-4d96-8973-44afbd06a4d7"
      },
      "source": [
        "l3 = l3.dropna()\n",
        "################## Removing \"-\" from the columns & checking unique values again\n",
        "l3 = l3[l3.L3_Decision != '-']\n",
        "l3.head()"
      ],
      "execution_count": null,
      "outputs": [
        {
          "output_type": "execute_result",
          "data": {
            "text/html": [
              "<div>\n",
              "<style scoped>\n",
              "    .dataframe tbody tr th:only-of-type {\n",
              "        vertical-align: middle;\n",
              "    }\n",
              "\n",
              "    .dataframe tbody tr th {\n",
              "        vertical-align: top;\n",
              "    }\n",
              "\n",
              "    .dataframe thead th {\n",
              "        text-align: right;\n",
              "    }\n",
              "</style>\n",
              "<table border=\"1\" class=\"dataframe\">\n",
              "  <thead>\n",
              "    <tr style=\"text-align: right;\">\n",
              "      <th></th>\n",
              "      <th>BagID</th>\n",
              "      <th>MVXR</th>\n",
              "      <th>BHSID</th>\n",
              "      <th>L2_Decision</th>\n",
              "      <th>L2_LoginID</th>\n",
              "      <th>L2_Decision_Time</th>\n",
              "      <th>L3_Decision</th>\n",
              "      <th>L3_LoginID</th>\n",
              "      <th>L3_Decision_Time</th>\n",
              "    </tr>\n",
              "  </thead>\n",
              "  <tbody>\n",
              "    <tr>\n",
              "      <th>0</th>\n",
              "      <td>5178</td>\n",
              "      <td>2</td>\n",
              "      <td>0312365478_0280SD</td>\n",
              "      <td>Time out</td>\n",
              "      <td>32661</td>\n",
              "      <td>1/1/2020 0:16:46</td>\n",
              "      <td>Reject</td>\n",
              "      <td>32887</td>\n",
              "      <td>1/1/2020 0:16:54</td>\n",
              "    </tr>\n",
              "    <tr>\n",
              "      <th>8</th>\n",
              "      <td>5210</td>\n",
              "      <td>2</td>\n",
              "      <td>0312367064_0326SD</td>\n",
              "      <td>Reject</td>\n",
              "      <td>32878</td>\n",
              "      <td>1/1/2020 1:03:21</td>\n",
              "      <td>Accept</td>\n",
              "      <td>32887</td>\n",
              "      <td>1/1/2020 1:04:03</td>\n",
              "    </tr>\n",
              "    <tr>\n",
              "      <th>9</th>\n",
              "      <td>5212</td>\n",
              "      <td>2</td>\n",
              "      <td>0312367151_0331SD</td>\n",
              "      <td>Reject</td>\n",
              "      <td>32878</td>\n",
              "      <td>1/1/2020 1:10:36</td>\n",
              "      <td>Reject</td>\n",
              "      <td>5525</td>\n",
              "      <td>1/1/2020 1:10:45</td>\n",
              "    </tr>\n",
              "    <tr>\n",
              "      <th>12</th>\n",
              "      <td>5226</td>\n",
              "      <td>2</td>\n",
              "      <td>0312340132_0351SD</td>\n",
              "      <td>Reject</td>\n",
              "      <td>31230</td>\n",
              "      <td>1/1/2020 1:17:15</td>\n",
              "      <td>Reject</td>\n",
              "      <td>5525</td>\n",
              "      <td>1/1/2020 1:17:24</td>\n",
              "    </tr>\n",
              "    <tr>\n",
              "      <th>14</th>\n",
              "      <td>5230</td>\n",
              "      <td>2</td>\n",
              "      <td>0312343996_0362SD</td>\n",
              "      <td>Time out</td>\n",
              "      <td>31230</td>\n",
              "      <td>1/1/2020 1:24:36</td>\n",
              "      <td>Accept</td>\n",
              "      <td>32887</td>\n",
              "      <td>1/1/2020 1:25:00</td>\n",
              "    </tr>\n",
              "  </tbody>\n",
              "</table>\n",
              "</div>"
            ],
            "text/plain": [
              "0  BagID MVXR              BHSID  ... L3_Decision L3_LoginID  L3_Decision_Time\n",
              "0   5178    2  0312365478_0280SD  ...      Reject      32887  1/1/2020 0:16:54\n",
              "8   5210    2  0312367064_0326SD  ...      Accept      32887  1/1/2020 1:04:03\n",
              "9   5212    2  0312367151_0331SD  ...      Reject       5525  1/1/2020 1:10:45\n",
              "12  5226    2  0312340132_0351SD  ...      Reject       5525  1/1/2020 1:17:24\n",
              "14  5230    2  0312343996_0362SD  ...      Accept      32887  1/1/2020 1:25:00\n",
              "\n",
              "[5 rows x 9 columns]"
            ]
          },
          "metadata": {
            "tags": []
          },
          "execution_count": 281
        }
      ]
    },
    {
      "cell_type": "code",
      "metadata": {
        "id": "pH_SeLSXZxv5"
      },
      "source": [
        "l3.BagID = l3.BagID.astype('int64')\n",
        "l3.MVXR = l3.MVXR.astype('int64')\n",
        "l3.L2_LoginID = l3.L2_LoginID.astype('int64')\n",
        "l3.L3_LoginID = l3.L3_LoginID.astype('int64')\n",
        "l3['L2_Decision_Time']= pd.to_datetime(l3['L2_Decision_Time'])\n",
        "l3['L3_Decision_Time']= pd.to_datetime(l3['L3_Decision_Time'], errors='coerce')\n",
        "\n",
        "l3.dtypes\n",
        "\n",
        "################## L2 time & L3 time\n",
        "l3['Operators_L3_time'] = (l3['L3_Decision_Time'] - l3['L2_Decision_Time']).dt.seconds\n",
        "\n",
        "################## Fetching first 4 letters\n",
        "l3['Aircraft_id'] = l3['BHSID'].astype(str).str[0:4]"
      ],
      "execution_count": null,
      "outputs": []
    },
    {
      "cell_type": "code",
      "metadata": {
        "colab": {
          "base_uri": "https://localhost:8080/"
        },
        "id": "SYa4FmIeSCS1",
        "outputId": "27377e17-4f7c-4eae-ad79-6b7cbd5834f8"
      },
      "source": [
        "l3.shape"
      ],
      "execution_count": null,
      "outputs": [
        {
          "output_type": "execute_result",
          "data": {
            "text/plain": [
              "(201572, 11)"
            ]
          },
          "metadata": {
            "tags": []
          },
          "execution_count": 283
        }
      ]
    },
    {
      "cell_type": "code",
      "metadata": {
        "colab": {
          "base_uri": "https://localhost:8080/",
          "height": 204
        },
        "id": "Qz5sK6-ISN21",
        "outputId": "20c45fd9-cad9-4120-c9cf-9fcee1c4784e"
      },
      "source": [
        "l3.head()"
      ],
      "execution_count": null,
      "outputs": [
        {
          "output_type": "execute_result",
          "data": {
            "text/html": [
              "<div>\n",
              "<style scoped>\n",
              "    .dataframe tbody tr th:only-of-type {\n",
              "        vertical-align: middle;\n",
              "    }\n",
              "\n",
              "    .dataframe tbody tr th {\n",
              "        vertical-align: top;\n",
              "    }\n",
              "\n",
              "    .dataframe thead th {\n",
              "        text-align: right;\n",
              "    }\n",
              "</style>\n",
              "<table border=\"1\" class=\"dataframe\">\n",
              "  <thead>\n",
              "    <tr style=\"text-align: right;\">\n",
              "      <th></th>\n",
              "      <th>BagID</th>\n",
              "      <th>MVXR</th>\n",
              "      <th>BHSID</th>\n",
              "      <th>L2_Decision</th>\n",
              "      <th>L2_LoginID</th>\n",
              "      <th>L2_Decision_Time</th>\n",
              "      <th>L3_Decision</th>\n",
              "      <th>L3_LoginID</th>\n",
              "      <th>L3_Decision_Time</th>\n",
              "      <th>Operators_L3_time</th>\n",
              "      <th>Aircraft_id</th>\n",
              "    </tr>\n",
              "  </thead>\n",
              "  <tbody>\n",
              "    <tr>\n",
              "      <th>0</th>\n",
              "      <td>5178</td>\n",
              "      <td>2</td>\n",
              "      <td>0312365478_0280SD</td>\n",
              "      <td>Time out</td>\n",
              "      <td>32661</td>\n",
              "      <td>2020-01-01 00:16:46</td>\n",
              "      <td>Reject</td>\n",
              "      <td>32887</td>\n",
              "      <td>2020-01-01 00:16:54</td>\n",
              "      <td>8</td>\n",
              "      <td>0312</td>\n",
              "    </tr>\n",
              "    <tr>\n",
              "      <th>8</th>\n",
              "      <td>5210</td>\n",
              "      <td>2</td>\n",
              "      <td>0312367064_0326SD</td>\n",
              "      <td>Reject</td>\n",
              "      <td>32878</td>\n",
              "      <td>2020-01-01 01:03:21</td>\n",
              "      <td>Accept</td>\n",
              "      <td>32887</td>\n",
              "      <td>2020-01-01 01:04:03</td>\n",
              "      <td>42</td>\n",
              "      <td>0312</td>\n",
              "    </tr>\n",
              "    <tr>\n",
              "      <th>9</th>\n",
              "      <td>5212</td>\n",
              "      <td>2</td>\n",
              "      <td>0312367151_0331SD</td>\n",
              "      <td>Reject</td>\n",
              "      <td>32878</td>\n",
              "      <td>2020-01-01 01:10:36</td>\n",
              "      <td>Reject</td>\n",
              "      <td>5525</td>\n",
              "      <td>2020-01-01 01:10:45</td>\n",
              "      <td>9</td>\n",
              "      <td>0312</td>\n",
              "    </tr>\n",
              "    <tr>\n",
              "      <th>12</th>\n",
              "      <td>5226</td>\n",
              "      <td>2</td>\n",
              "      <td>0312340132_0351SD</td>\n",
              "      <td>Reject</td>\n",
              "      <td>31230</td>\n",
              "      <td>2020-01-01 01:17:15</td>\n",
              "      <td>Reject</td>\n",
              "      <td>5525</td>\n",
              "      <td>2020-01-01 01:17:24</td>\n",
              "      <td>9</td>\n",
              "      <td>0312</td>\n",
              "    </tr>\n",
              "    <tr>\n",
              "      <th>14</th>\n",
              "      <td>5230</td>\n",
              "      <td>2</td>\n",
              "      <td>0312343996_0362SD</td>\n",
              "      <td>Time out</td>\n",
              "      <td>31230</td>\n",
              "      <td>2020-01-01 01:24:36</td>\n",
              "      <td>Accept</td>\n",
              "      <td>32887</td>\n",
              "      <td>2020-01-01 01:25:00</td>\n",
              "      <td>24</td>\n",
              "      <td>0312</td>\n",
              "    </tr>\n",
              "  </tbody>\n",
              "</table>\n",
              "</div>"
            ],
            "text/plain": [
              "0   BagID  MVXR  ... Operators_L3_time Aircraft_id\n",
              "0    5178     2  ...                 8        0312\n",
              "8    5210     2  ...                42        0312\n",
              "9    5212     2  ...                 9        0312\n",
              "12   5226     2  ...                 9        0312\n",
              "14   5230     2  ...                24        0312\n",
              "\n",
              "[5 rows x 11 columns]"
            ]
          },
          "metadata": {
            "tags": []
          },
          "execution_count": 284
        }
      ]
    },
    {
      "cell_type": "code",
      "metadata": {
        "colab": {
          "base_uri": "https://localhost:8080/",
          "height": 204
        },
        "id": "DXGWSFejSiXB",
        "outputId": "b2b0011c-50d7-4762-f9a7-479c54790e4d"
      },
      "source": [
        "l3 = l3.drop(['BagID','BHSID','L2_Decision', 'L3_Decision','L2_Decision_Time','L3_Decision_Time','MVXR','L2_LoginID'],axis=1)\n",
        "l3.head()"
      ],
      "execution_count": null,
      "outputs": [
        {
          "output_type": "execute_result",
          "data": {
            "text/html": [
              "<div>\n",
              "<style scoped>\n",
              "    .dataframe tbody tr th:only-of-type {\n",
              "        vertical-align: middle;\n",
              "    }\n",
              "\n",
              "    .dataframe tbody tr th {\n",
              "        vertical-align: top;\n",
              "    }\n",
              "\n",
              "    .dataframe thead th {\n",
              "        text-align: right;\n",
              "    }\n",
              "</style>\n",
              "<table border=\"1\" class=\"dataframe\">\n",
              "  <thead>\n",
              "    <tr style=\"text-align: right;\">\n",
              "      <th></th>\n",
              "      <th>L3_LoginID</th>\n",
              "      <th>Operators_L3_time</th>\n",
              "      <th>Aircraft_id</th>\n",
              "    </tr>\n",
              "  </thead>\n",
              "  <tbody>\n",
              "    <tr>\n",
              "      <th>0</th>\n",
              "      <td>32887</td>\n",
              "      <td>8</td>\n",
              "      <td>0312</td>\n",
              "    </tr>\n",
              "    <tr>\n",
              "      <th>8</th>\n",
              "      <td>32887</td>\n",
              "      <td>42</td>\n",
              "      <td>0312</td>\n",
              "    </tr>\n",
              "    <tr>\n",
              "      <th>9</th>\n",
              "      <td>5525</td>\n",
              "      <td>9</td>\n",
              "      <td>0312</td>\n",
              "    </tr>\n",
              "    <tr>\n",
              "      <th>12</th>\n",
              "      <td>5525</td>\n",
              "      <td>9</td>\n",
              "      <td>0312</td>\n",
              "    </tr>\n",
              "    <tr>\n",
              "      <th>14</th>\n",
              "      <td>32887</td>\n",
              "      <td>24</td>\n",
              "      <td>0312</td>\n",
              "    </tr>\n",
              "  </tbody>\n",
              "</table>\n",
              "</div>"
            ],
            "text/plain": [
              "0   L3_LoginID  Operators_L3_time Aircraft_id\n",
              "0        32887                  8        0312\n",
              "8        32887                 42        0312\n",
              "9         5525                  9        0312\n",
              "12        5525                  9        0312\n",
              "14       32887                 24        0312"
            ]
          },
          "metadata": {
            "tags": []
          },
          "execution_count": 285
        }
      ]
    },
    {
      "cell_type": "code",
      "metadata": {
        "id": "zveO0PACUK-k"
      },
      "source": [
        "################### Creating bins\n",
        "bins = [0, 20, 40, 60, 100]\n",
        "labels = [\"Excellent_operator\",\"Good_operator\",\"Normal_operator\",\"Worst_operator\"]\n",
        "l3['l3_decision'] = pd.cut(l3['Operators_L3_time'], bins=bins, labels=labels)"
      ],
      "execution_count": null,
      "outputs": []
    },
    {
      "cell_type": "code",
      "metadata": {
        "colab": {
          "base_uri": "https://localhost:8080/"
        },
        "id": "LS1GF0WUZp6e",
        "outputId": "2d4e4262-e6e9-4f2c-ec94-fd81a81544df"
      },
      "source": [
        "l3.isnull().sum()"
      ],
      "execution_count": null,
      "outputs": [
        {
          "output_type": "execute_result",
          "data": {
            "text/plain": [
              "0\n",
              "L3_LoginID            0\n",
              "Operators_L3_time     0\n",
              "Aircraft_id           0\n",
              "l3_decision          32\n",
              "dtype: int64"
            ]
          },
          "metadata": {
            "tags": []
          },
          "execution_count": 287
        }
      ]
    },
    {
      "cell_type": "code",
      "metadata": {
        "id": "Hpo5g8vebJbo"
      },
      "source": [
        "l3 = l3.dropna()"
      ],
      "execution_count": null,
      "outputs": []
    },
    {
      "cell_type": "code",
      "metadata": {
        "id": "UaWCOMtcT2wj"
      },
      "source": [
        "# Shift column 'Operator_L2_time' to first position\n",
        "first_column = l3.pop('l3_decision')\n",
        "  \n",
        "# insert column to first in data frame \n",
        "l3.insert(0, 'l3_decision', first_column)"
      ],
      "execution_count": null,
      "outputs": []
    },
    {
      "cell_type": "code",
      "metadata": {
        "colab": {
          "base_uri": "https://localhost:8080/"
        },
        "id": "oQIolTCPVPyq",
        "outputId": "ce26dde0-a69a-4ad9-da66-77c38f69d436"
      },
      "source": [
        "l3.isnull().sum()"
      ],
      "execution_count": null,
      "outputs": [
        {
          "output_type": "execute_result",
          "data": {
            "text/plain": [
              "0\n",
              "l3_decision          0\n",
              "L3_LoginID           0\n",
              "Operators_L3_time    0\n",
              "Aircraft_id          0\n",
              "dtype: int64"
            ]
          },
          "metadata": {
            "tags": []
          },
          "execution_count": 314
        }
      ]
    },
    {
      "cell_type": "code",
      "metadata": {
        "colab": {
          "base_uri": "https://localhost:8080/"
        },
        "id": "zmJs6MDhbljr",
        "outputId": "c1e3f283-40d9-425a-dbee-e9d4f9aa242d"
      },
      "source": [
        "################## Removing \"-\" from the columns & checking unique values again\n",
        "l3 = l3[l3.Aircraft_id != 'MVXR']\n",
        "l3 = l3[l3.Aircraft_id != '0000']\n",
        "l3.shape"
      ],
      "execution_count": null,
      "outputs": [
        {
          "output_type": "execute_result",
          "data": {
            "text/plain": [
              "(174429, 4)"
            ]
          },
          "metadata": {
            "tags": []
          },
          "execution_count": 315
        }
      ]
    },
    {
      "cell_type": "code",
      "metadata": {
        "colab": {
          "base_uri": "https://localhost:8080/",
          "height": 204
        },
        "id": "2NP1ajdJXtd8",
        "outputId": "6a928a6e-a029-4b0b-d98b-07acb9013484"
      },
      "source": [
        "rows = l3.sample(frac =.15)\n",
        "rows.head(5)"
      ],
      "execution_count": null,
      "outputs": [
        {
          "output_type": "execute_result",
          "data": {
            "text/html": [
              "<div>\n",
              "<style scoped>\n",
              "    .dataframe tbody tr th:only-of-type {\n",
              "        vertical-align: middle;\n",
              "    }\n",
              "\n",
              "    .dataframe tbody tr th {\n",
              "        vertical-align: top;\n",
              "    }\n",
              "\n",
              "    .dataframe thead th {\n",
              "        text-align: right;\n",
              "    }\n",
              "</style>\n",
              "<table border=\"1\" class=\"dataframe\">\n",
              "  <thead>\n",
              "    <tr style=\"text-align: right;\">\n",
              "      <th></th>\n",
              "      <th>l3_decision</th>\n",
              "      <th>L3_LoginID</th>\n",
              "      <th>Operators_L3_time</th>\n",
              "      <th>Aircraft_id</th>\n",
              "    </tr>\n",
              "  </thead>\n",
              "  <tbody>\n",
              "    <tr>\n",
              "      <th>132571</th>\n",
              "      <td>Good_operator</td>\n",
              "      <td>32652</td>\n",
              "      <td>31</td>\n",
              "      <td>0775</td>\n",
              "    </tr>\n",
              "    <tr>\n",
              "      <th>9555</th>\n",
              "      <td>Excellent_operator</td>\n",
              "      <td>31388</td>\n",
              "      <td>14</td>\n",
              "      <td>0001</td>\n",
              "    </tr>\n",
              "    <tr>\n",
              "      <th>621563</th>\n",
              "      <td>Good_operator</td>\n",
              "      <td>33687</td>\n",
              "      <td>35</td>\n",
              "      <td>0312</td>\n",
              "    </tr>\n",
              "    <tr>\n",
              "      <th>925067</th>\n",
              "      <td>Excellent_operator</td>\n",
              "      <td>18183</td>\n",
              "      <td>19</td>\n",
              "      <td>0312</td>\n",
              "    </tr>\n",
              "    <tr>\n",
              "      <th>811707</th>\n",
              "      <td>Excellent_operator</td>\n",
              "      <td>32878</td>\n",
              "      <td>10</td>\n",
              "      <td>0312</td>\n",
              "    </tr>\n",
              "  </tbody>\n",
              "</table>\n",
              "</div>"
            ],
            "text/plain": [
              "0              l3_decision  L3_LoginID  Operators_L3_time Aircraft_id\n",
              "132571       Good_operator       32652                 31        0775\n",
              "9555    Excellent_operator       31388                 14        0001\n",
              "621563       Good_operator       33687                 35        0312\n",
              "925067  Excellent_operator       18183                 19        0312\n",
              "811707  Excellent_operator       32878                 10        0312"
            ]
          },
          "metadata": {
            "tags": []
          },
          "execution_count": 316
        }
      ]
    },
    {
      "cell_type": "code",
      "metadata": {
        "id": "DqS3-Ar5Wnnc"
      },
      "source": [
        "##################### Traget & Predictors\n",
        "X1 = rows.iloc[:,1:]\n",
        "y1 = rows.iloc[:,0]"
      ],
      "execution_count": null,
      "outputs": []
    },
    {
      "cell_type": "code",
      "metadata": {
        "id": "jxc5ix8UWnnc"
      },
      "source": [
        "##################### Splitting the dataset into the Training set and Test set\n",
        "from sklearn.model_selection import train_test_split\n",
        "X_train, X_test, y_train, y_test = train_test_split(X1, y1, test_size = 0.2, random_state =0)"
      ],
      "execution_count": null,
      "outputs": []
    },
    {
      "cell_type": "code",
      "metadata": {
        "colab": {
          "base_uri": "https://localhost:8080/"
        },
        "id": "edjyRJuQWnnd",
        "outputId": "754ca006-d10f-4efc-8e2e-9ce0ff781864"
      },
      "source": [
        "from sklearn.linear_model import LogisticRegression\n",
        "classifier = LogisticRegression(multi_class = \"multinomial\", solver = \"newton-cg\",n_jobs=-1,max_iter=150)\n",
        "classifier.fit(X_train, y_train)"
      ],
      "execution_count": null,
      "outputs": [
        {
          "output_type": "execute_result",
          "data": {
            "text/plain": [
              "LogisticRegression(C=1.0, class_weight=None, dual=False, fit_intercept=True,\n",
              "                   intercept_scaling=1, l1_ratio=None, max_iter=150,\n",
              "                   multi_class='multinomial', n_jobs=-1, penalty='l2',\n",
              "                   random_state=None, solver='newton-cg', tol=0.0001, verbose=0,\n",
              "                   warm_start=False)"
            ]
          },
          "metadata": {
            "tags": []
          },
          "execution_count": 332
        }
      ]
    },
    {
      "cell_type": "code",
      "metadata": {
        "id": "EWHfWWI_Wnnd"
      },
      "source": [
        "y_pred = classifier.predict(X_test)\n",
        "Prediction = pd.DataFrame(y_pred)"
      ],
      "execution_count": null,
      "outputs": []
    },
    {
      "cell_type": "code",
      "metadata": {
        "colab": {
          "base_uri": "https://localhost:8080/"
        },
        "id": "FuFOHroqWnne",
        "outputId": "b2f4fa31-1ab2-4995-a6a2-eed3f39ad211"
      },
      "source": [
        "from sklearn.metrics import confusion_matrix\n",
        "cm = confusion_matrix(y_test, y_pred)\n",
        "cm"
      ],
      "execution_count": null,
      "outputs": [
        {
          "output_type": "execute_result",
          "data": {
            "text/plain": [
              "array([[2554,    0,    0,    0],\n",
              "       [   0, 1712,   16,    0],\n",
              "       [   0,    9,  822,    0],\n",
              "       [   0,    0,   92,   28]])"
            ]
          },
          "metadata": {
            "tags": []
          },
          "execution_count": 334
        }
      ]
    },
    {
      "cell_type": "code",
      "metadata": {
        "colab": {
          "base_uri": "https://localhost:8080/"
        },
        "id": "WC68-pDzWnne",
        "outputId": "0bb1597e-8466-4cdc-8267-4bb97c7a5ba3"
      },
      "source": [
        "from sklearn.metrics import accuracy_score\n",
        "print (\"Accuracy is : \", accuracy_score(y_test, y_pred))"
      ],
      "execution_count": null,
      "outputs": [
        {
          "output_type": "stream",
          "text": [
            "Accuracy is :  0.9776418880183451\n"
          ],
          "name": "stdout"
        }
      ]
    },
    {
      "cell_type": "code",
      "metadata": {
        "id": "4dJ_uivkWnne"
      },
      "source": [
        "X_pred = classifier.predict(X_train)"
      ],
      "execution_count": null,
      "outputs": []
    },
    {
      "cell_type": "code",
      "metadata": {
        "colab": {
          "base_uri": "https://localhost:8080/"
        },
        "id": "g-JzE40vWnne",
        "outputId": "c7a2a824-bddb-4c53-870d-0e5831c43587"
      },
      "source": [
        "from sklearn.metrics import accuracy_score\n",
        "print (\"Accuracy is : \", accuracy_score(y_train, X_pred))"
      ],
      "execution_count": null,
      "outputs": [
        {
          "output_type": "stream",
          "text": [
            "Accuracy is :  0.976111987004921\n"
          ],
          "name": "stdout"
        }
      ]
    },
    {
      "cell_type": "markdown",
      "metadata": {
        "id": "40eIkhFjQLLC"
      },
      "source": [
        "# **All records**"
      ]
    },
    {
      "cell_type": "markdown",
      "metadata": {
        "id": "t25bzfpHRFAe"
      },
      "source": [
        "# **L2 Dataset**"
      ]
    },
    {
      "cell_type": "code",
      "metadata": {
        "id": "Squ_3Eo1RFAe"
      },
      "source": [
        "##################### Traget & Predictors\n",
        "X = l2.iloc[:,1:].values\n",
        "y = l2.iloc[:,0].values"
      ],
      "execution_count": null,
      "outputs": []
    },
    {
      "cell_type": "code",
      "metadata": {
        "id": "Jk0aIZN0RFAf"
      },
      "source": [
        "##################### Splitting the dataset into the Training set and Test set\n",
        "from sklearn.model_selection import train_test_split\n",
        "X_train, X_test, y_train, y_test = train_test_split(X, y, test_size = 0.2, random_state =0)"
      ],
      "execution_count": null,
      "outputs": []
    },
    {
      "cell_type": "code",
      "metadata": {
        "colab": {
          "base_uri": "https://localhost:8080/",
          "height": 340
        },
        "id": "wAm0eGZoRFAf",
        "outputId": "1f0a39e8-9566-48a0-cb0b-c55790e72cd1"
      },
      "source": [
        "from sklearn.linear_model import LogisticRegression\n",
        "classifier = LogisticRegression(multi_class = \"multinomial\", solver = \"newton-cg\",n_jobs=-1,max_iter=130)\n",
        "classifier.fit(X_train, y_train)"
      ],
      "execution_count": null,
      "outputs": [
        {
          "output_type": "error",
          "ename": "ValueError",
          "evalue": "ignored",
          "traceback": [
            "\u001b[0;31m---------------------------------------------------------------------------\u001b[0m",
            "\u001b[0;31mValueError\u001b[0m                                Traceback (most recent call last)",
            "\u001b[0;32m<ipython-input-348-d75dbb9f6860>\u001b[0m in \u001b[0;36m<module>\u001b[0;34m()\u001b[0m\n\u001b[1;32m      1\u001b[0m \u001b[0;32mfrom\u001b[0m \u001b[0msklearn\u001b[0m\u001b[0;34m.\u001b[0m\u001b[0mlinear_model\u001b[0m \u001b[0;32mimport\u001b[0m \u001b[0mLogisticRegression\u001b[0m\u001b[0;34m\u001b[0m\u001b[0;34m\u001b[0m\u001b[0m\n\u001b[1;32m      2\u001b[0m \u001b[0mclassifier\u001b[0m \u001b[0;34m=\u001b[0m \u001b[0mLogisticRegression\u001b[0m\u001b[0;34m(\u001b[0m\u001b[0mmulti_class\u001b[0m \u001b[0;34m=\u001b[0m \u001b[0;34m\"multinomial\"\u001b[0m\u001b[0;34m,\u001b[0m \u001b[0msolver\u001b[0m \u001b[0;34m=\u001b[0m \u001b[0;34m\"newton-cg\"\u001b[0m\u001b[0;34m,\u001b[0m\u001b[0mn_jobs\u001b[0m\u001b[0;34m=\u001b[0m\u001b[0;34m-\u001b[0m\u001b[0;36m1\u001b[0m\u001b[0;34m,\u001b[0m\u001b[0mmax_iter\u001b[0m\u001b[0;34m=\u001b[0m\u001b[0;36m130\u001b[0m\u001b[0;34m)\u001b[0m\u001b[0;34m\u001b[0m\u001b[0;34m\u001b[0m\u001b[0m\n\u001b[0;32m----> 3\u001b[0;31m \u001b[0mclassifier\u001b[0m\u001b[0;34m.\u001b[0m\u001b[0mfit\u001b[0m\u001b[0;34m(\u001b[0m\u001b[0mX_train\u001b[0m\u001b[0;34m,\u001b[0m \u001b[0my_train\u001b[0m\u001b[0;34m)\u001b[0m\u001b[0;34m\u001b[0m\u001b[0;34m\u001b[0m\u001b[0m\n\u001b[0m",
            "\u001b[0;32m/usr/local/lib/python3.7/dist-packages/sklearn/linear_model/_logistic.py\u001b[0m in \u001b[0;36mfit\u001b[0;34m(self, X, y, sample_weight)\u001b[0m\n\u001b[1;32m   1525\u001b[0m \u001b[0;34m\u001b[0m\u001b[0m\n\u001b[1;32m   1526\u001b[0m         X, y = check_X_y(X, y, accept_sparse='csr', dtype=_dtype, order=\"C\",\n\u001b[0;32m-> 1527\u001b[0;31m                          accept_large_sparse=solver != 'liblinear')\n\u001b[0m\u001b[1;32m   1528\u001b[0m         \u001b[0mcheck_classification_targets\u001b[0m\u001b[0;34m(\u001b[0m\u001b[0my\u001b[0m\u001b[0;34m)\u001b[0m\u001b[0;34m\u001b[0m\u001b[0;34m\u001b[0m\u001b[0m\n\u001b[1;32m   1529\u001b[0m         \u001b[0mself\u001b[0m\u001b[0;34m.\u001b[0m\u001b[0mclasses_\u001b[0m \u001b[0;34m=\u001b[0m \u001b[0mnp\u001b[0m\u001b[0;34m.\u001b[0m\u001b[0munique\u001b[0m\u001b[0;34m(\u001b[0m\u001b[0my\u001b[0m\u001b[0;34m)\u001b[0m\u001b[0;34m\u001b[0m\u001b[0;34m\u001b[0m\u001b[0m\n",
            "\u001b[0;32m/usr/local/lib/python3.7/dist-packages/sklearn/utils/validation.py\u001b[0m in \u001b[0;36mcheck_X_y\u001b[0;34m(X, y, accept_sparse, accept_large_sparse, dtype, order, copy, force_all_finite, ensure_2d, allow_nd, multi_output, ensure_min_samples, ensure_min_features, y_numeric, warn_on_dtype, estimator)\u001b[0m\n\u001b[1;32m    753\u001b[0m                     \u001b[0mensure_min_features\u001b[0m\u001b[0;34m=\u001b[0m\u001b[0mensure_min_features\u001b[0m\u001b[0;34m,\u001b[0m\u001b[0;34m\u001b[0m\u001b[0;34m\u001b[0m\u001b[0m\n\u001b[1;32m    754\u001b[0m                     \u001b[0mwarn_on_dtype\u001b[0m\u001b[0;34m=\u001b[0m\u001b[0mwarn_on_dtype\u001b[0m\u001b[0;34m,\u001b[0m\u001b[0;34m\u001b[0m\u001b[0;34m\u001b[0m\u001b[0m\n\u001b[0;32m--> 755\u001b[0;31m                     estimator=estimator)\n\u001b[0m\u001b[1;32m    756\u001b[0m     \u001b[0;32mif\u001b[0m \u001b[0mmulti_output\u001b[0m\u001b[0;34m:\u001b[0m\u001b[0;34m\u001b[0m\u001b[0;34m\u001b[0m\u001b[0m\n\u001b[1;32m    757\u001b[0m         y = check_array(y, 'csr', force_all_finite=True, ensure_2d=False,\n",
            "\u001b[0;32m/usr/local/lib/python3.7/dist-packages/sklearn/utils/validation.py\u001b[0m in \u001b[0;36mcheck_array\u001b[0;34m(array, accept_sparse, accept_large_sparse, dtype, order, copy, force_all_finite, ensure_2d, allow_nd, ensure_min_samples, ensure_min_features, warn_on_dtype, estimator)\u001b[0m\n\u001b[1;32m    529\u001b[0m                     \u001b[0marray\u001b[0m \u001b[0;34m=\u001b[0m \u001b[0marray\u001b[0m\u001b[0;34m.\u001b[0m\u001b[0mastype\u001b[0m\u001b[0;34m(\u001b[0m\u001b[0mdtype\u001b[0m\u001b[0;34m,\u001b[0m \u001b[0mcasting\u001b[0m\u001b[0;34m=\u001b[0m\u001b[0;34m\"unsafe\"\u001b[0m\u001b[0;34m,\u001b[0m \u001b[0mcopy\u001b[0m\u001b[0;34m=\u001b[0m\u001b[0;32mFalse\u001b[0m\u001b[0;34m)\u001b[0m\u001b[0;34m\u001b[0m\u001b[0;34m\u001b[0m\u001b[0m\n\u001b[1;32m    530\u001b[0m                 \u001b[0;32melse\u001b[0m\u001b[0;34m:\u001b[0m\u001b[0;34m\u001b[0m\u001b[0;34m\u001b[0m\u001b[0m\n\u001b[0;32m--> 531\u001b[0;31m                     \u001b[0marray\u001b[0m \u001b[0;34m=\u001b[0m \u001b[0mnp\u001b[0m\u001b[0;34m.\u001b[0m\u001b[0masarray\u001b[0m\u001b[0;34m(\u001b[0m\u001b[0marray\u001b[0m\u001b[0;34m,\u001b[0m \u001b[0morder\u001b[0m\u001b[0;34m=\u001b[0m\u001b[0morder\u001b[0m\u001b[0;34m,\u001b[0m \u001b[0mdtype\u001b[0m\u001b[0;34m=\u001b[0m\u001b[0mdtype\u001b[0m\u001b[0;34m)\u001b[0m\u001b[0;34m\u001b[0m\u001b[0;34m\u001b[0m\u001b[0m\n\u001b[0m\u001b[1;32m    532\u001b[0m             \u001b[0;32mexcept\u001b[0m \u001b[0mComplexWarning\u001b[0m\u001b[0;34m:\u001b[0m\u001b[0;34m\u001b[0m\u001b[0;34m\u001b[0m\u001b[0m\n\u001b[1;32m    533\u001b[0m                 raise ValueError(\"Complex data not supported\\n\"\n",
            "\u001b[0;32m/usr/local/lib/python3.7/dist-packages/numpy/core/_asarray.py\u001b[0m in \u001b[0;36masarray\u001b[0;34m(a, dtype, order)\u001b[0m\n\u001b[1;32m     81\u001b[0m \u001b[0;34m\u001b[0m\u001b[0m\n\u001b[1;32m     82\u001b[0m     \"\"\"\n\u001b[0;32m---> 83\u001b[0;31m     \u001b[0;32mreturn\u001b[0m \u001b[0marray\u001b[0m\u001b[0;34m(\u001b[0m\u001b[0ma\u001b[0m\u001b[0;34m,\u001b[0m \u001b[0mdtype\u001b[0m\u001b[0;34m,\u001b[0m \u001b[0mcopy\u001b[0m\u001b[0;34m=\u001b[0m\u001b[0;32mFalse\u001b[0m\u001b[0;34m,\u001b[0m \u001b[0morder\u001b[0m\u001b[0;34m=\u001b[0m\u001b[0morder\u001b[0m\u001b[0;34m)\u001b[0m\u001b[0;34m\u001b[0m\u001b[0;34m\u001b[0m\u001b[0m\n\u001b[0m\u001b[1;32m     84\u001b[0m \u001b[0;34m\u001b[0m\u001b[0m\n\u001b[1;32m     85\u001b[0m \u001b[0;34m\u001b[0m\u001b[0m\n",
            "\u001b[0;31mValueError\u001b[0m: could not convert string to float: '0312462692_0551SD'"
          ]
        }
      ]
    },
    {
      "cell_type": "code",
      "metadata": {
        "id": "X-L_qS2bRFAf"
      },
      "source": [
        "y_pred = classifier.predict(X_test)"
      ],
      "execution_count": null,
      "outputs": []
    },
    {
      "cell_type": "code",
      "metadata": {
        "colab": {
          "base_uri": "https://localhost:8080/"
        },
        "id": "n22DJnbERFAg",
        "outputId": "3847e9cc-e90c-4a94-9097-21d365cd18af"
      },
      "source": [
        "from sklearn.metrics import confusion_matrix\n",
        "cm = confusion_matrix(y_test, y_pred)\n",
        "cm"
      ],
      "execution_count": null,
      "outputs": [
        {
          "output_type": "execute_result",
          "data": {
            "text/plain": [
              "array([[17569,     0,     0,     0],\n",
              "       [    4, 11001,    51,     0],\n",
              "       [    0,    76,  5238,     0],\n",
              "       [    0,     0,   640,   307]])"
            ]
          },
          "metadata": {
            "tags": []
          },
          "execution_count": 342
        }
      ]
    },
    {
      "cell_type": "code",
      "metadata": {
        "colab": {
          "base_uri": "https://localhost:8080/"
        },
        "id": "E92fo9vMRFAg",
        "outputId": "59d624e1-d91a-43e3-959a-65b9cb54c091"
      },
      "source": [
        "from sklearn.metrics import accuracy_score\n",
        "print (\"Accuracy is : \", accuracy_score(y_test, y_pred))"
      ],
      "execution_count": null,
      "outputs": [
        {
          "output_type": "stream",
          "text": [
            "Accuracy is :  0.9778994439029983\n"
          ],
          "name": "stdout"
        }
      ]
    },
    {
      "cell_type": "code",
      "metadata": {
        "id": "YnzeOhxWRFAg"
      },
      "source": [
        "X_pred = classifier.predict(X_train)"
      ],
      "execution_count": null,
      "outputs": []
    },
    {
      "cell_type": "code",
      "metadata": {
        "colab": {
          "base_uri": "https://localhost:8080/"
        },
        "id": "AH_H73UXRFAg",
        "outputId": "5fba2a9b-02b6-4bca-93b2-15758582f013"
      },
      "source": [
        "from sklearn.metrics import accuracy_score\n",
        "print (\"Accuracy is : \", accuracy_score(y_train, X_pred))"
      ],
      "execution_count": null,
      "outputs": [
        {
          "output_type": "stream",
          "text": [
            "Accuracy is :  0.9781071067699563\n"
          ],
          "name": "stdout"
        }
      ]
    },
    {
      "cell_type": "markdown",
      "metadata": {
        "id": "juULa2QWQYM9"
      },
      "source": [
        "# **L3 Dataset**"
      ]
    },
    {
      "cell_type": "code",
      "metadata": {
        "id": "LQVGeXuoPu_Q"
      },
      "source": [
        "##################### Traget & Predictors\n",
        "X = l3.iloc[:,1:].values\n",
        "y = l3.iloc[:,0].values"
      ],
      "execution_count": null,
      "outputs": []
    },
    {
      "cell_type": "code",
      "metadata": {
        "id": "BfPnMSWCPu_Q"
      },
      "source": [
        "##################### Splitting the dataset into the Training set and Test set\n",
        "from sklearn.model_selection import train_test_split\n",
        "X_train, X_test, y_train, y_test = train_test_split(X, y, test_size = 0.2, random_state =0)"
      ],
      "execution_count": null,
      "outputs": []
    },
    {
      "cell_type": "code",
      "metadata": {
        "colab": {
          "base_uri": "https://localhost:8080/"
        },
        "id": "t_dAf04xPu_Q",
        "outputId": "e3eeb2e2-c0d8-4323-81f6-fcdebc85aada"
      },
      "source": [
        "from sklearn.linear_model import LogisticRegression\n",
        "classifier = LogisticRegression(multi_class = \"multinomial\", solver = \"newton-cg\",n_jobs=-1,max_iter=150)\n",
        "classifier.fit(X_train, y_train)"
      ],
      "execution_count": null,
      "outputs": [
        {
          "output_type": "execute_result",
          "data": {
            "text/plain": [
              "LogisticRegression(C=1.0, class_weight=None, dual=False, fit_intercept=True,\n",
              "                   intercept_scaling=1, l1_ratio=None, max_iter=150,\n",
              "                   multi_class='multinomial', n_jobs=-1, penalty='l2',\n",
              "                   random_state=None, solver='newton-cg', tol=0.0001, verbose=0,\n",
              "                   warm_start=False)"
            ]
          },
          "metadata": {
            "tags": []
          },
          "execution_count": 340
        }
      ]
    },
    {
      "cell_type": "code",
      "metadata": {
        "id": "sb_FVcCYPu_R"
      },
      "source": [
        "y_pred = classifier.predict(X_test)"
      ],
      "execution_count": null,
      "outputs": []
    },
    {
      "cell_type": "code",
      "metadata": {
        "colab": {
          "base_uri": "https://localhost:8080/"
        },
        "id": "ooFhgKlWPu_R",
        "outputId": "3847e9cc-e90c-4a94-9097-21d365cd18af"
      },
      "source": [
        "from sklearn.metrics import confusion_matrix\n",
        "cm = confusion_matrix(y_test, y_pred)\n",
        "cm"
      ],
      "execution_count": null,
      "outputs": [
        {
          "output_type": "execute_result",
          "data": {
            "text/plain": [
              "array([[17569,     0,     0,     0],\n",
              "       [    4, 11001,    51,     0],\n",
              "       [    0,    76,  5238,     0],\n",
              "       [    0,     0,   640,   307]])"
            ]
          },
          "metadata": {
            "tags": []
          },
          "execution_count": 342
        }
      ]
    },
    {
      "cell_type": "code",
      "metadata": {
        "colab": {
          "base_uri": "https://localhost:8080/"
        },
        "id": "MZPDN4c_Pu_S",
        "outputId": "59d624e1-d91a-43e3-959a-65b9cb54c091"
      },
      "source": [
        "from sklearn.metrics import accuracy_score\n",
        "print (\"Accuracy is : \", accuracy_score(y_test, y_pred))"
      ],
      "execution_count": null,
      "outputs": [
        {
          "output_type": "stream",
          "text": [
            "Accuracy is :  0.9778994439029983\n"
          ],
          "name": "stdout"
        }
      ]
    },
    {
      "cell_type": "code",
      "metadata": {
        "id": "PfpBv_F9Pu_S"
      },
      "source": [
        "X_pred = classifier.predict(X_train)"
      ],
      "execution_count": null,
      "outputs": []
    },
    {
      "cell_type": "code",
      "metadata": {
        "colab": {
          "base_uri": "https://localhost:8080/"
        },
        "id": "aEPpAlBhPu_S",
        "outputId": "5fba2a9b-02b6-4bca-93b2-15758582f013"
      },
      "source": [
        "from sklearn.metrics import accuracy_score\n",
        "print (\"Accuracy is : \", accuracy_score(y_train, X_pred))"
      ],
      "execution_count": null,
      "outputs": [
        {
          "output_type": "stream",
          "text": [
            "Accuracy is :  0.9781071067699563\n"
          ],
          "name": "stdout"
        }
      ]
    }
  ]
}